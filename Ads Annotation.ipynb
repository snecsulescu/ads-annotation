{
 "cells": [
  {
   "cell_type": "code",
   "execution_count": null,
   "metadata": {
    "ExecuteTime": {
     "end_time": "2019-11-22T10:13:07.814157Z",
     "start_time": "2019-11-22T10:13:07.321233Z"
    },
    "scrolled": false
   },
   "outputs": [],
   "source": [
    "%load_ext autoreload\n",
    "%autoreload 2\n",
    "%matplotlib inline"
   ]
  },
  {
   "cell_type": "code",
   "execution_count": 2,
   "metadata": {
    "ExecuteTime": {
     "end_time": "2019-11-22T10:13:08.934047Z",
     "start_time": "2019-11-22T10:13:08.916236Z"
    }
   },
   "outputs": [
    {
     "data": {
      "application/javascript": [
       "IPython.OutputArea.auto_scroll_threshold = 10\n"
      ],
      "text/plain": [
       "<IPython.core.display.Javascript object>"
      ]
     },
     "metadata": {},
     "output_type": "display_data"
    }
   ],
   "source": [
    " %%javascript\n",
    "IPython.OutputArea.auto_scroll_threshold = 10"
   ]
  },
  {
   "cell_type": "markdown",
   "metadata": {},
   "source": [
    "# Introduction\n",
    "\n",
    "My task for this exercise was to analyze and provide a solution that would allow ads to be annotated with skills, responsibilities and other requirements for a successful candidate to perform in their role. From now on, I will call this information **target information**. \n",
    "\n",
    "My solution relies on the corpus provided containing 50000 job ads. Each ad has a `title`, an `abstract`, a `content` and some `metadata` information. In order to understand the data I analysed each field, presented in Section 1, and I have observed that the information that I need to extract is in the `content` field.\n",
    "\n",
    "The ad’s `content` field contains HTML tags, therefore I manually checked if I could use the html structure to detect where in the article the target information is located. I observed that some articles contain information in the form of lists, like in the following example. "
   ]
  },
  {
   "cell_type": "markdown",
   "metadata": {
    "ExecuteTime": {
     "end_time": "2019-11-21T21:26:08.177573Z",
     "start_time": "2019-11-21T21:26:07.940052Z"
    }
   },
   "source": [
    "![Example Ad](imgs/example_ad.png)"
   ]
  },
  {
   "cell_type": "markdown",
   "metadata": {},
   "source": [
    "However, when I checked the html structure some lists were created with `UL` or `OL` tags while others were created using `BR` tags. Therefore, some articles contain structured information that I could use, but not all. \n",
    "    \n",
    "With all this information in mind, I came up with two approaches to address the problem. A supervised one and another unsupervised. In the following lines, I will describe both of them, stating which one I chose."
   ]
  },
  {
   "cell_type": "markdown",
   "metadata": {},
   "source": [
    "\n",
    "## Supervised approach\n",
    "\n",
    "The supervised approach that I came up with has the following steps:\n",
    "    \n",
    "1. Identify the sentences that contain the target information using a classification model.\n",
    "2. Parse each sentence to detect the dependency relations between the words in the sentence.\n",
    "3. Use manually created rules to identify the target information in the sentence. \n",
    "\n",
    "To explain this approach I will use the example already given.\n",
    "\n",
    "Using a classification model we identify that the sentences in the last list: \n",
    "\n",
    "> * You will have experience within Early Education and a passion for business development.\n",
    "> * To demonstrate ambition, focus, drive, enthusiasm, and professionalism.\n",
    "> * Desire to become an expert in your area - we pride ourselves on our specialist knowledge.\n",
    "\n",
    "show the required skills. We parse each sentence, i.e. every line, and using linguistic patterns we detect the chunks of text that are important for us. To show an example I will use the following sentence:\n",
    ">You will have experience within Early Education and a passion for business development.\n",
    "\n",
    "To show the dependency tree I used the Stanford parser for the sake of the visual representation. It looks like this:\n",
    "![Dependency tree](imgs/dependency_tree.png)\n",
    "\n",
    "Using the pattern:\n",
    "> You will have -DOBJ-> */NN \n",
    "\n",
    "we can identify that the subtree whose root is the **dobj** of the verb **have** is a skill. In this case, we will obtain two skills, **experience with Early Education** and **passion for business development**.\n"
   ]
  },
  {
   "cell_type": "markdown",
   "metadata": {},
   "source": [
    "### Evaluation\n",
    "#### Requirements:\n",
    "- a classifier that detects if a sentence contains the target information.\n",
    "- a set of rules to identify important parts of the text. \n",
    "\n",
    "#### Pros:\n",
    "- we can achieve linguistically correct information\n",
    "\n",
    "#### Cons: \n",
    "- a lot of manual work to annotate a sufficient amount of sentences from the corpus, like which sentences contain the target information and which don’t. \n",
    "- even more work to write linguistic patterns to achieve sufficient coverage.\n"
   ]
  },
  {
   "cell_type": "markdown",
   "metadata": {},
   "source": [
    "## Unsupervised approach\n",
    "\n",
    "The unsupervised approach that I considered contains the following steps: \n",
    "\n",
    "1. Identify keywords in text.\n",
    "2. Output of the extracted keywords, selecting those that represent the target information using similarities between vectorial representations of words. \n",
    "\n",
    "In order to explain this approach, I will use the same ad.\n",
    "I expect that using algorithms of keywords extraction I will extract a list of keywords such as **building relationships**, **competitive salary**, **hard work**, **experience within early education**. Next, using vectorial representations of words, I want to detect that **experience within early education** and **building relationships** are skills/requirements for the role. \n",
    "\n",
    "In order to do that, I use vectorial representations of words to compute the general representation of the target relationships, $v_r$, and the vectorial representation for each keyword, $v_{kw}$. Finally, I order the keywords by the similarity between $v_{kw}$ and $v_r$.\n",
    "\n",
    "### Evaluation\n",
    "#### Requirements:\n",
    "- a pre-trained model for the word vectorial representation.\n",
    "- algorithms to extract keywords.\n",
    "\n",
    "#### Pros:\n",
    "- an easy implementation that does not require manual work.\n",
    "\n",
    "#### Cons: \n",
    "- it might achieve worse results."
   ]
  },
  {
   "cell_type": "markdown",
   "metadata": {},
   "source": [
    "## Conclusions\n",
    "\n",
    "In order to choose the right approach I took into consideration:\n",
    "\n",
    "- **Resources**: working alone, for only one week, with a corpus containing 50000 ads.\n",
    "- **Goal of the task**: evaluating my skills for an NLP position. \n",
    "\n",
    "Between the two approaches, I chose to use the unsupervised approach because it fits better with the available resources and I reckon it better fulfils the goal. "
   ]
  },
  {
   "cell_type": "markdown",
   "metadata": {},
   "source": [
    "# The algorithm"
   ]
  },
  {
   "cell_type": "code",
   "execution_count": 4,
   "metadata": {
    "ExecuteTime": {
     "end_time": "2019-11-22T10:18:35.207892Z",
     "start_time": "2019-11-22T10:18:35.172367Z"
    },
    "scrolled": false
   },
   "outputs": [],
   "source": [
    "import json\n",
    "import pprint\n",
    "import pattern \n",
    "from nltk.corpus import stopwords\n",
    "from gensim.utils import lemmatize\n",
    "from nltk.tokenize import word_tokenize\n",
    "from tqdm import tqdm\n",
    "import pickle\n",
    "import pandas as pd\n",
    "import html\n",
    "from bs4 import BeautifulSoup, NavigableString\n",
    "import re\n",
    "import numpy as np\n",
    "from keywords import KeywordsTfidf, KeywordsRake, KeywordsTextRank, GloveFilter\n",
    "from utils import word_frequency, ngram_frequency, remove_html_tags, clean_text, cooccurrences_frequency, find_keywords_in_text, measure, load_data\n",
    "from nltk.corpus import stopwords\n",
    "from collections import defaultdict\n"
   ]
  },
  {
   "cell_type": "code",
   "execution_count": 5,
   "metadata": {
    "ExecuteTime": {
     "end_time": "2019-11-22T10:18:36.949816Z",
     "start_time": "2019-11-22T10:18:36.916046Z"
    }
   },
   "outputs": [],
   "source": [
    "INPUT_DATA=\"ads-50k.json\""
   ]
  },
  {
   "cell_type": "markdown",
   "metadata": {},
   "source": [
    "## Data Loading"
   ]
  },
  {
   "cell_type": "code",
   "execution_count": 6,
   "metadata": {
    "ExecuteTime": {
     "end_time": "2019-11-22T10:18:40.518779Z",
     "start_time": "2019-11-22T10:18:39.098449Z"
    },
    "scrolled": false
   },
   "outputs": [
    {
     "name": "stdout",
     "output_type": "stream",
     "text": [
      "Loaded 50000 ads.\n"
     ]
    }
   ],
   "source": [
    "ads = load_data(INPUT_DATA)\n",
    "print(f\"Loaded {len(ads)} ads.\")"
   ]
  },
  {
   "cell_type": "markdown",
   "metadata": {},
   "source": [
    "## Corpus analysis\n",
    "\n",
    "In order to understand the information that is usually written in the different fields of the ad, I look at the top words, bigrams, and, only for the content field, trigrams. I observe that the top words and bigrams in the ad's `title` and `abstract` are similar and represent job positions. However, in the `content` the top words belong to various semantic classes, therefore, in my opinion, the information about the skills, responsibilities, and requirements that I need to extract can be found in the ad `content`. \n",
    "\n",
    "Besides the three fields that contain just plain text, I also had a look over the information in the `metadata` field. "
   ]
  },
  {
   "cell_type": "markdown",
   "metadata": {
    "ExecuteTime": {
     "end_time": "2019-11-18T22:46:15.163255Z",
     "start_time": "2019-11-18T22:46:15.133212Z"
    }
   },
   "source": [
    "### Titles analysis"
   ]
  },
  {
   "cell_type": "code",
   "execution_count": 7,
   "metadata": {
    "ExecuteTime": {
     "end_time": "2019-11-22T10:19:17.569088Z",
     "start_time": "2019-11-22T10:19:17.515206Z"
    },
    "scrolled": false
   },
   "outputs": [],
   "source": [
    "titles = [ad['title'] for ad in ads]"
   ]
  },
  {
   "cell_type": "code",
   "execution_count": 8,
   "metadata": {
    "ExecuteTime": {
     "end_time": "2019-11-22T10:19:18.958181Z",
     "start_time": "2019-11-22T10:19:18.248094Z"
    },
    "scrolled": true
   },
   "outputs": [],
   "source": [
    "title_word_freqs = word_frequency(titles)"
   ]
  },
  {
   "cell_type": "code",
   "execution_count": 9,
   "metadata": {
    "ExecuteTime": {
     "end_time": "2019-11-22T10:19:19.568280Z",
     "start_time": "2019-11-22T10:19:19.519369Z"
    }
   },
   "outputs": [
    {
     "data": {
      "text/html": [
       "<div>\n",
       "<style scoped>\n",
       "    .dataframe tbody tr th:only-of-type {\n",
       "        vertical-align: middle;\n",
       "    }\n",
       "\n",
       "    .dataframe tbody tr th {\n",
       "        vertical-align: top;\n",
       "    }\n",
       "\n",
       "    .dataframe thead th {\n",
       "        text-align: right;\n",
       "    }\n",
       "</style>\n",
       "<table border=\"1\" class=\"dataframe\">\n",
       "  <thead>\n",
       "    <tr style=\"text-align: right;\">\n",
       "      <th></th>\n",
       "      <th>Word</th>\n",
       "      <th>Counts</th>\n",
       "    </tr>\n",
       "  </thead>\n",
       "  <tbody>\n",
       "    <tr>\n",
       "      <th>0</th>\n",
       "      <td>manager</td>\n",
       "      <td>7988</td>\n",
       "    </tr>\n",
       "    <tr>\n",
       "      <th>1</th>\n",
       "      <td>senior</td>\n",
       "      <td>3825</td>\n",
       "    </tr>\n",
       "    <tr>\n",
       "      <th>2</th>\n",
       "      <td>officer</td>\n",
       "      <td>2672</td>\n",
       "    </tr>\n",
       "    <tr>\n",
       "      <th>3</th>\n",
       "      <td>assistant</td>\n",
       "      <td>2643</td>\n",
       "    </tr>\n",
       "    <tr>\n",
       "      <th>4</th>\n",
       "      <td>sales</td>\n",
       "      <td>2502</td>\n",
       "    </tr>\n",
       "    <tr>\n",
       "      <th>5</th>\n",
       "      <td>engineer</td>\n",
       "      <td>2161</td>\n",
       "    </tr>\n",
       "    <tr>\n",
       "      <th>6</th>\n",
       "      <td>business</td>\n",
       "      <td>1962</td>\n",
       "    </tr>\n",
       "    <tr>\n",
       "      <th>7</th>\n",
       "      <td>service</td>\n",
       "      <td>1826</td>\n",
       "    </tr>\n",
       "    <tr>\n",
       "      <th>8</th>\n",
       "      <td>consultant</td>\n",
       "      <td>1822</td>\n",
       "    </tr>\n",
       "    <tr>\n",
       "      <th>9</th>\n",
       "      <td>project</td>\n",
       "      <td>1718</td>\n",
       "    </tr>\n",
       "    <tr>\n",
       "      <th>10</th>\n",
       "      <td>analyst</td>\n",
       "      <td>1548</td>\n",
       "    </tr>\n",
       "    <tr>\n",
       "      <th>11</th>\n",
       "      <td>coordinator</td>\n",
       "      <td>1486</td>\n",
       "    </tr>\n",
       "    <tr>\n",
       "      <th>12</th>\n",
       "      <td>support</td>\n",
       "      <td>1363</td>\n",
       "    </tr>\n",
       "    <tr>\n",
       "      <th>13</th>\n",
       "      <td>time</td>\n",
       "      <td>1349</td>\n",
       "    </tr>\n",
       "    <tr>\n",
       "      <th>14</th>\n",
       "      <td>customer</td>\n",
       "      <td>1199</td>\n",
       "    </tr>\n",
       "    <tr>\n",
       "      <th>15</th>\n",
       "      <td>administrator</td>\n",
       "      <td>1169</td>\n",
       "    </tr>\n",
       "    <tr>\n",
       "      <th>16</th>\n",
       "      <td>developer</td>\n",
       "      <td>1090</td>\n",
       "    </tr>\n",
       "    <tr>\n",
       "      <th>17</th>\n",
       "      <td>accountant</td>\n",
       "      <td>1071</td>\n",
       "    </tr>\n",
       "    <tr>\n",
       "      <th>18</th>\n",
       "      <td>services</td>\n",
       "      <td>1057</td>\n",
       "    </tr>\n",
       "    <tr>\n",
       "      <th>19</th>\n",
       "      <td>specialist</td>\n",
       "      <td>1036</td>\n",
       "    </tr>\n",
       "    <tr>\n",
       "      <th>20</th>\n",
       "      <td>nurse</td>\n",
       "      <td>966</td>\n",
       "    </tr>\n",
       "    <tr>\n",
       "      <th>21</th>\n",
       "      <td>technician</td>\n",
       "      <td>955</td>\n",
       "    </tr>\n",
       "    <tr>\n",
       "      <th>22</th>\n",
       "      <td>development</td>\n",
       "      <td>921</td>\n",
       "    </tr>\n",
       "    <tr>\n",
       "      <th>23</th>\n",
       "      <td>care</td>\n",
       "      <td>880</td>\n",
       "    </tr>\n",
       "    <tr>\n",
       "      <th>24</th>\n",
       "      <td>casual</td>\n",
       "      <td>843</td>\n",
       "    </tr>\n",
       "    <tr>\n",
       "      <th>25</th>\n",
       "      <td>full</td>\n",
       "      <td>792</td>\n",
       "    </tr>\n",
       "    <tr>\n",
       "      <th>26</th>\n",
       "      <td>operator</td>\n",
       "      <td>790</td>\n",
       "    </tr>\n",
       "    <tr>\n",
       "      <th>27</th>\n",
       "      <td>team</td>\n",
       "      <td>787</td>\n",
       "    </tr>\n",
       "    <tr>\n",
       "      <th>28</th>\n",
       "      <td>executive</td>\n",
       "      <td>767</td>\n",
       "    </tr>\n",
       "    <tr>\n",
       "      <th>29</th>\n",
       "      <td>driver</td>\n",
       "      <td>765</td>\n",
       "    </tr>\n",
       "    <tr>\n",
       "      <th>30</th>\n",
       "      <td>part</td>\n",
       "      <td>745</td>\n",
       "    </tr>\n",
       "    <tr>\n",
       "      <th>31</th>\n",
       "      <td>registered</td>\n",
       "      <td>742</td>\n",
       "    </tr>\n",
       "    <tr>\n",
       "      <th>32</th>\n",
       "      <td>store</td>\n",
       "      <td>700</td>\n",
       "    </tr>\n",
       "    <tr>\n",
       "      <th>33</th>\n",
       "      <td>contract</td>\n",
       "      <td>698</td>\n",
       "    </tr>\n",
       "    <tr>\n",
       "      <th>34</th>\n",
       "      <td>administration</td>\n",
       "      <td>689</td>\n",
       "    </tr>\n",
       "    <tr>\n",
       "      <th>35</th>\n",
       "      <td>supervisor</td>\n",
       "      <td>687</td>\n",
       "    </tr>\n",
       "    <tr>\n",
       "      <th>36</th>\n",
       "      <td>health</td>\n",
       "      <td>666</td>\n",
       "    </tr>\n",
       "    <tr>\n",
       "      <th>37</th>\n",
       "      <td>marketing</td>\n",
       "      <td>661</td>\n",
       "    </tr>\n",
       "    <tr>\n",
       "      <th>38</th>\n",
       "      <td>worker</td>\n",
       "      <td>645</td>\n",
       "    </tr>\n",
       "    <tr>\n",
       "      <th>39</th>\n",
       "      <td>account</td>\n",
       "      <td>645</td>\n",
       "    </tr>\n",
       "    <tr>\n",
       "      <th>40</th>\n",
       "      <td>teacher</td>\n",
       "      <td>638</td>\n",
       "    </tr>\n",
       "    <tr>\n",
       "      <th>41</th>\n",
       "      <td>advisor</td>\n",
       "      <td>630</td>\n",
       "    </tr>\n",
       "    <tr>\n",
       "      <th>42</th>\n",
       "      <td>retail</td>\n",
       "      <td>618</td>\n",
       "    </tr>\n",
       "    <tr>\n",
       "      <th>43</th>\n",
       "      <td>representative</td>\n",
       "      <td>617</td>\n",
       "    </tr>\n",
       "    <tr>\n",
       "      <th>44</th>\n",
       "      <td>property</td>\n",
       "      <td>609</td>\n",
       "    </tr>\n",
       "    <tr>\n",
       "      <th>45</th>\n",
       "      <td>commercial</td>\n",
       "      <td>592</td>\n",
       "    </tr>\n",
       "    <tr>\n",
       "      <th>46</th>\n",
       "      <td>chef</td>\n",
       "      <td>574</td>\n",
       "    </tr>\n",
       "    <tr>\n",
       "      <th>47</th>\n",
       "      <td>fitter</td>\n",
       "      <td>569</td>\n",
       "    </tr>\n",
       "    <tr>\n",
       "      <th>48</th>\n",
       "      <td>lead</td>\n",
       "      <td>550</td>\n",
       "    </tr>\n",
       "    <tr>\n",
       "      <th>49</th>\n",
       "      <td>financial</td>\n",
       "      <td>545</td>\n",
       "    </tr>\n",
       "  </tbody>\n",
       "</table>\n",
       "</div>"
      ],
      "text/plain": [
       "              Word  Counts\n",
       "0          manager    7988\n",
       "1           senior    3825\n",
       "2          officer    2672\n",
       "3        assistant    2643\n",
       "4            sales    2502\n",
       "5         engineer    2161\n",
       "6         business    1962\n",
       "7          service    1826\n",
       "8       consultant    1822\n",
       "9          project    1718\n",
       "10         analyst    1548\n",
       "11     coordinator    1486\n",
       "12         support    1363\n",
       "13            time    1349\n",
       "14        customer    1199\n",
       "15   administrator    1169\n",
       "16       developer    1090\n",
       "17      accountant    1071\n",
       "18        services    1057\n",
       "19      specialist    1036\n",
       "20           nurse     966\n",
       "21      technician     955\n",
       "22     development     921\n",
       "23            care     880\n",
       "24          casual     843\n",
       "25            full     792\n",
       "26        operator     790\n",
       "27            team     787\n",
       "28       executive     767\n",
       "29          driver     765\n",
       "30            part     745\n",
       "31      registered     742\n",
       "32           store     700\n",
       "33        contract     698\n",
       "34  administration     689\n",
       "35      supervisor     687\n",
       "36          health     666\n",
       "37       marketing     661\n",
       "38          worker     645\n",
       "39         account     645\n",
       "40         teacher     638\n",
       "41         advisor     630\n",
       "42          retail     618\n",
       "43  representative     617\n",
       "44        property     609\n",
       "45      commercial     592\n",
       "46            chef     574\n",
       "47          fitter     569\n",
       "48            lead     550\n",
       "49       financial     545"
      ]
     },
     "execution_count": 9,
     "metadata": {},
     "output_type": "execute_result"
    }
   ],
   "source": [
    "pd.DataFrame(title_word_freqs[:50], columns=[\"Word\", \"Counts\"])"
   ]
  },
  {
   "cell_type": "code",
   "execution_count": 10,
   "metadata": {
    "ExecuteTime": {
     "end_time": "2019-11-22T10:19:22.108376Z",
     "start_time": "2019-11-22T10:19:20.959452Z"
    },
    "scrolled": true
   },
   "outputs": [],
   "source": [
    "title_bigram_freqs = ngram_frequency(titles, 2)"
   ]
  },
  {
   "cell_type": "code",
   "execution_count": 11,
   "metadata": {
    "ExecuteTime": {
     "end_time": "2019-11-22T10:19:22.151588Z",
     "start_time": "2019-11-22T10:19:22.110864Z"
    }
   },
   "outputs": [
    {
     "data": {
      "text/html": [
       "<div>\n",
       "<style scoped>\n",
       "    .dataframe tbody tr th:only-of-type {\n",
       "        vertical-align: middle;\n",
       "    }\n",
       "\n",
       "    .dataframe tbody tr th {\n",
       "        vertical-align: top;\n",
       "    }\n",
       "\n",
       "    .dataframe thead th {\n",
       "        text-align: right;\n",
       "    }\n",
       "</style>\n",
       "<table border=\"1\" class=\"dataframe\">\n",
       "  <thead>\n",
       "    <tr style=\"text-align: right;\">\n",
       "      <th></th>\n",
       "      <th>Bigrams</th>\n",
       "      <th>Counts</th>\n",
       "    </tr>\n",
       "  </thead>\n",
       "  <tbody>\n",
       "    <tr>\n",
       "      <th>0</th>\n",
       "      <td>project manager</td>\n",
       "      <td>836</td>\n",
       "    </tr>\n",
       "    <tr>\n",
       "      <th>1</th>\n",
       "      <td>customer service</td>\n",
       "      <td>814</td>\n",
       "    </tr>\n",
       "    <tr>\n",
       "      <th>2</th>\n",
       "      <td>part time</td>\n",
       "      <td>732</td>\n",
       "    </tr>\n",
       "    <tr>\n",
       "      <th>3</th>\n",
       "      <td>full time</td>\n",
       "      <td>600</td>\n",
       "    </tr>\n",
       "    <tr>\n",
       "      <th>4</th>\n",
       "      <td>business development</td>\n",
       "      <td>554</td>\n",
       "    </tr>\n",
       "    <tr>\n",
       "      <th>...</th>\n",
       "      <td>...</td>\n",
       "      <td>...</td>\n",
       "    </tr>\n",
       "    <tr>\n",
       "      <th>95</th>\n",
       "      <td>marketing coordinator</td>\n",
       "      <td>90</td>\n",
       "    </tr>\n",
       "    <tr>\n",
       "      <th>96</th>\n",
       "      <td>head chef</td>\n",
       "      <td>90</td>\n",
       "    </tr>\n",
       "    <tr>\n",
       "      <th>97</th>\n",
       "      <td>office administrator</td>\n",
       "      <td>90</td>\n",
       "    </tr>\n",
       "    <tr>\n",
       "      <th>98</th>\n",
       "      <td>solution architect</td>\n",
       "      <td>88</td>\n",
       "    </tr>\n",
       "    <tr>\n",
       "      <th>99</th>\n",
       "      <td>services officer</td>\n",
       "      <td>88</td>\n",
       "    </tr>\n",
       "  </tbody>\n",
       "</table>\n",
       "<p>100 rows × 2 columns</p>\n",
       "</div>"
      ],
      "text/plain": [
       "                  Bigrams  Counts\n",
       "0         project manager     836\n",
       "1        customer service     814\n",
       "2               part time     732\n",
       "3               full time     600\n",
       "4    business development     554\n",
       "..                    ...     ...\n",
       "95  marketing coordinator      90\n",
       "96              head chef      90\n",
       "97   office administrator      90\n",
       "98     solution architect      88\n",
       "99       services officer      88\n",
       "\n",
       "[100 rows x 2 columns]"
      ]
     },
     "execution_count": 11,
     "metadata": {},
     "output_type": "execute_result"
    }
   ],
   "source": [
    "pd.DataFrame(title_bigram_freqs[:100], columns=[\"Bigrams\", \"Counts\"])"
   ]
  },
  {
   "cell_type": "markdown",
   "metadata": {},
   "source": [
    "### Abstracts analysis"
   ]
  },
  {
   "cell_type": "code",
   "execution_count": 12,
   "metadata": {
    "ExecuteTime": {
     "end_time": "2019-11-22T10:19:29.246939Z",
     "start_time": "2019-11-22T10:19:29.194254Z"
    },
    "scrolled": false
   },
   "outputs": [],
   "source": [
    "abstracts = [ad['abstract'] for ad in ads]"
   ]
  },
  {
   "cell_type": "code",
   "execution_count": 13,
   "metadata": {
    "ExecuteTime": {
     "end_time": "2019-11-22T10:19:31.709985Z",
     "start_time": "2019-11-22T10:19:29.968380Z"
    },
    "scrolled": true
   },
   "outputs": [],
   "source": [
    "abstract_word_freqs = word_frequency(abstracts)"
   ]
  },
  {
   "cell_type": "code",
   "execution_count": 14,
   "metadata": {
    "ExecuteTime": {
     "end_time": "2019-11-22T10:19:32.426519Z",
     "start_time": "2019-11-22T10:19:32.378415Z"
    }
   },
   "outputs": [
    {
     "data": {
      "text/html": [
       "<div>\n",
       "<style scoped>\n",
       "    .dataframe tbody tr th:only-of-type {\n",
       "        vertical-align: middle;\n",
       "    }\n",
       "\n",
       "    .dataframe tbody tr th {\n",
       "        vertical-align: top;\n",
       "    }\n",
       "\n",
       "    .dataframe thead th {\n",
       "        text-align: right;\n",
       "    }\n",
       "</style>\n",
       "<table border=\"1\" class=\"dataframe\">\n",
       "  <thead>\n",
       "    <tr style=\"text-align: right;\">\n",
       "      <th></th>\n",
       "      <th>Word</th>\n",
       "      <th>Counts</th>\n",
       "    </tr>\n",
       "  </thead>\n",
       "  <tbody>\n",
       "    <tr>\n",
       "      <th>0</th>\n",
       "      <td>team</td>\n",
       "      <td>11976</td>\n",
       "    </tr>\n",
       "    <tr>\n",
       "      <th>1</th>\n",
       "      <td>join</td>\n",
       "      <td>11211</td>\n",
       "    </tr>\n",
       "    <tr>\n",
       "      <th>2</th>\n",
       "      <td>opportunity</td>\n",
       "      <td>8585</td>\n",
       "    </tr>\n",
       "    <tr>\n",
       "      <th>3</th>\n",
       "      <td>experienced</td>\n",
       "      <td>7048</td>\n",
       "    </tr>\n",
       "    <tr>\n",
       "      <th>4</th>\n",
       "      <td>looking</td>\n",
       "      <td>6789</td>\n",
       "    </tr>\n",
       "    <tr>\n",
       "      <th>...</th>\n",
       "      <td>...</td>\n",
       "      <td>...</td>\n",
       "    </tr>\n",
       "    <tr>\n",
       "      <th>95</th>\n",
       "      <td>brand</td>\n",
       "      <td>935</td>\n",
       "    </tr>\n",
       "    <tr>\n",
       "      <th>96</th>\n",
       "      <td>day</td>\n",
       "      <td>923</td>\n",
       "    </tr>\n",
       "    <tr>\n",
       "      <th>97</th>\n",
       "      <td>level</td>\n",
       "      <td>919</td>\n",
       "    </tr>\n",
       "    <tr>\n",
       "      <th>98</th>\n",
       "      <td>culture</td>\n",
       "      <td>886</td>\n",
       "    </tr>\n",
       "    <tr>\n",
       "      <th>99</th>\n",
       "      <td>fast</td>\n",
       "      <td>878</td>\n",
       "    </tr>\n",
       "  </tbody>\n",
       "</table>\n",
       "<p>100 rows × 2 columns</p>\n",
       "</div>"
      ],
      "text/plain": [
       "           Word  Counts\n",
       "0          team   11976\n",
       "1          join   11211\n",
       "2   opportunity    8585\n",
       "3   experienced    7048\n",
       "4       looking    6789\n",
       "..          ...     ...\n",
       "95        brand     935\n",
       "96          day     923\n",
       "97        level     919\n",
       "98      culture     886\n",
       "99         fast     878\n",
       "\n",
       "[100 rows x 2 columns]"
      ]
     },
     "execution_count": 14,
     "metadata": {},
     "output_type": "execute_result"
    }
   ],
   "source": [
    "pd.DataFrame(abstract_word_freqs, columns=[\"Word\", \"Counts\"]).head(100)"
   ]
  },
  {
   "cell_type": "code",
   "execution_count": 15,
   "metadata": {
    "ExecuteTime": {
     "end_time": "2019-11-22T10:19:34.914914Z",
     "start_time": "2019-11-22T10:19:33.739026Z"
    },
    "scrolled": true
   },
   "outputs": [
    {
     "data": {
      "text/html": [
       "<div>\n",
       "<style scoped>\n",
       "    .dataframe tbody tr th:only-of-type {\n",
       "        vertical-align: middle;\n",
       "    }\n",
       "\n",
       "    .dataframe tbody tr th {\n",
       "        vertical-align: top;\n",
       "    }\n",
       "\n",
       "    .dataframe thead th {\n",
       "        text-align: right;\n",
       "    }\n",
       "</style>\n",
       "<table border=\"1\" class=\"dataframe\">\n",
       "  <thead>\n",
       "    <tr style=\"text-align: right;\">\n",
       "      <th></th>\n",
       "      <th>Bigrams</th>\n",
       "      <th>Counts</th>\n",
       "    </tr>\n",
       "  </thead>\n",
       "  <tbody>\n",
       "    <tr>\n",
       "      <th>0</th>\n",
       "      <td>project manager</td>\n",
       "      <td>836</td>\n",
       "    </tr>\n",
       "    <tr>\n",
       "      <th>1</th>\n",
       "      <td>customer service</td>\n",
       "      <td>814</td>\n",
       "    </tr>\n",
       "    <tr>\n",
       "      <th>2</th>\n",
       "      <td>part time</td>\n",
       "      <td>732</td>\n",
       "    </tr>\n",
       "    <tr>\n",
       "      <th>3</th>\n",
       "      <td>full time</td>\n",
       "      <td>600</td>\n",
       "    </tr>\n",
       "    <tr>\n",
       "      <th>4</th>\n",
       "      <td>business development</td>\n",
       "      <td>554</td>\n",
       "    </tr>\n",
       "    <tr>\n",
       "      <th>...</th>\n",
       "      <td>...</td>\n",
       "      <td>...</td>\n",
       "    </tr>\n",
       "    <tr>\n",
       "      <th>95</th>\n",
       "      <td>marketing coordinator</td>\n",
       "      <td>90</td>\n",
       "    </tr>\n",
       "    <tr>\n",
       "      <th>96</th>\n",
       "      <td>head chef</td>\n",
       "      <td>90</td>\n",
       "    </tr>\n",
       "    <tr>\n",
       "      <th>97</th>\n",
       "      <td>office administrator</td>\n",
       "      <td>90</td>\n",
       "    </tr>\n",
       "    <tr>\n",
       "      <th>98</th>\n",
       "      <td>solution architect</td>\n",
       "      <td>88</td>\n",
       "    </tr>\n",
       "    <tr>\n",
       "      <th>99</th>\n",
       "      <td>services officer</td>\n",
       "      <td>88</td>\n",
       "    </tr>\n",
       "  </tbody>\n",
       "</table>\n",
       "<p>100 rows × 2 columns</p>\n",
       "</div>"
      ],
      "text/plain": [
       "                  Bigrams  Counts\n",
       "0         project manager     836\n",
       "1        customer service     814\n",
       "2               part time     732\n",
       "3               full time     600\n",
       "4    business development     554\n",
       "..                    ...     ...\n",
       "95  marketing coordinator      90\n",
       "96              head chef      90\n",
       "97   office administrator      90\n",
       "98     solution architect      88\n",
       "99       services officer      88\n",
       "\n",
       "[100 rows x 2 columns]"
      ]
     },
     "execution_count": 15,
     "metadata": {},
     "output_type": "execute_result"
    }
   ],
   "source": [
    "abstract_bigram_freqs = ngram_frequency(titles, 2)\n",
    "pd.DataFrame(abstract_bigram_freqs, columns=[\"Bigrams\", \"Counts\"]).head(100)"
   ]
  },
  {
   "cell_type": "markdown",
   "metadata": {},
   "source": [
    "### Contents analysis"
   ]
  },
  {
   "cell_type": "code",
   "execution_count": 16,
   "metadata": {
    "ExecuteTime": {
     "end_time": "2019-11-22T10:20:47.087692Z",
     "start_time": "2019-11-22T10:19:36.361147Z"
    }
   },
   "outputs": [],
   "source": [
    "contents = [clean_text(remove_html_tags(ad['content'])) for ad in ads]"
   ]
  },
  {
   "cell_type": "code",
   "execution_count": 17,
   "metadata": {
    "ExecuteTime": {
     "end_time": "2019-11-22T10:21:11.089454Z",
     "start_time": "2019-11-22T10:20:47.090429Z"
    }
   },
   "outputs": [],
   "source": [
    "content_words_freq=word_frequency(contents)"
   ]
  },
  {
   "cell_type": "code",
   "execution_count": 18,
   "metadata": {
    "ExecuteTime": {
     "end_time": "2019-11-22T10:21:11.169827Z",
     "start_time": "2019-11-22T10:21:11.092496Z"
    }
   },
   "outputs": [
    {
     "data": {
      "text/html": [
       "<div>\n",
       "<style scoped>\n",
       "    .dataframe tbody tr th:only-of-type {\n",
       "        vertical-align: middle;\n",
       "    }\n",
       "\n",
       "    .dataframe tbody tr th {\n",
       "        vertical-align: top;\n",
       "    }\n",
       "\n",
       "    .dataframe thead th {\n",
       "        text-align: right;\n",
       "    }\n",
       "</style>\n",
       "<table border=\"1\" class=\"dataframe\">\n",
       "  <thead>\n",
       "    <tr style=\"text-align: right;\">\n",
       "      <th></th>\n",
       "      <th>0</th>\n",
       "      <th>1</th>\n",
       "    </tr>\n",
       "  </thead>\n",
       "  <tbody>\n",
       "    <tr>\n",
       "      <th>0</th>\n",
       "      <td>experience</td>\n",
       "      <td>111481</td>\n",
       "    </tr>\n",
       "    <tr>\n",
       "      <th>1</th>\n",
       "      <td>work</td>\n",
       "      <td>95999</td>\n",
       "    </tr>\n",
       "    <tr>\n",
       "      <th>2</th>\n",
       "      <td>team</td>\n",
       "      <td>91611</td>\n",
       "    </tr>\n",
       "    <tr>\n",
       "      <th>3</th>\n",
       "      <td>role</td>\n",
       "      <td>90102</td>\n",
       "    </tr>\n",
       "    <tr>\n",
       "      <th>4</th>\n",
       "      <td>skills</td>\n",
       "      <td>71783</td>\n",
       "    </tr>\n",
       "    <tr>\n",
       "      <th>...</th>\n",
       "      <td>...</td>\n",
       "      <td>...</td>\n",
       "    </tr>\n",
       "    <tr>\n",
       "      <th>95</th>\n",
       "      <td>salary</td>\n",
       "      <td>13741</td>\n",
       "    </tr>\n",
       "    <tr>\n",
       "      <th>96</th>\n",
       "      <td>solutions</td>\n",
       "      <td>13725</td>\n",
       "    </tr>\n",
       "    <tr>\n",
       "      <th>97</th>\n",
       "      <td>systems</td>\n",
       "      <td>13725</td>\n",
       "    </tr>\n",
       "    <tr>\n",
       "      <th>98</th>\n",
       "      <td>australian</td>\n",
       "      <td>13675</td>\n",
       "    </tr>\n",
       "    <tr>\n",
       "      <th>99</th>\n",
       "      <td>technical</td>\n",
       "      <td>13668</td>\n",
       "    </tr>\n",
       "  </tbody>\n",
       "</table>\n",
       "<p>100 rows × 2 columns</p>\n",
       "</div>"
      ],
      "text/plain": [
       "             0       1\n",
       "0   experience  111481\n",
       "1         work   95999\n",
       "2         team   91611\n",
       "3         role   90102\n",
       "4       skills   71783\n",
       "..         ...     ...\n",
       "95      salary   13741\n",
       "96   solutions   13725\n",
       "97     systems   13725\n",
       "98  australian   13675\n",
       "99   technical   13668\n",
       "\n",
       "[100 rows x 2 columns]"
      ]
     },
     "execution_count": 18,
     "metadata": {},
     "output_type": "execute_result"
    }
   ],
   "source": [
    "pd.DataFrame(content_words_freq).head(100)"
   ]
  },
  {
   "cell_type": "code",
   "execution_count": 19,
   "metadata": {
    "ExecuteTime": {
     "end_time": "2019-11-22T10:22:01.474644Z",
     "start_time": "2019-11-22T10:21:11.172722Z"
    }
   },
   "outputs": [],
   "source": [
    "content_bigram_freq = ngram_frequency(contents,2)"
   ]
  },
  {
   "cell_type": "code",
   "execution_count": 20,
   "metadata": {
    "ExecuteTime": {
     "end_time": "2019-11-22T10:22:02.522525Z",
     "start_time": "2019-11-22T10:22:01.476533Z"
    }
   },
   "outputs": [
    {
     "data": {
      "text/html": [
       "<div>\n",
       "<style scoped>\n",
       "    .dataframe tbody tr th:only-of-type {\n",
       "        vertical-align: middle;\n",
       "    }\n",
       "\n",
       "    .dataframe tbody tr th {\n",
       "        vertical-align: top;\n",
       "    }\n",
       "\n",
       "    .dataframe thead th {\n",
       "        text-align: right;\n",
       "    }\n",
       "</style>\n",
       "<table border=\"1\" class=\"dataframe\">\n",
       "  <thead>\n",
       "    <tr style=\"text-align: right;\">\n",
       "      <th></th>\n",
       "      <th>0</th>\n",
       "      <th>1</th>\n",
       "    </tr>\n",
       "  </thead>\n",
       "  <tbody>\n",
       "    <tr>\n",
       "      <th>0</th>\n",
       "      <td>communication skills</td>\n",
       "      <td>14930</td>\n",
       "    </tr>\n",
       "    <tr>\n",
       "      <th>1</th>\n",
       "      <td>customer service</td>\n",
       "      <td>13802</td>\n",
       "    </tr>\n",
       "    <tr>\n",
       "      <th>2</th>\n",
       "      <td>full time</td>\n",
       "      <td>10068</td>\n",
       "    </tr>\n",
       "    <tr>\n",
       "      <th>3</th>\n",
       "      <td>skills experience</td>\n",
       "      <td>10021</td>\n",
       "    </tr>\n",
       "    <tr>\n",
       "      <th>4</th>\n",
       "      <td>ability work</td>\n",
       "      <td>9197</td>\n",
       "    </tr>\n",
       "    <tr>\n",
       "      <th>...</th>\n",
       "      <td>...</td>\n",
       "      <td>...</td>\n",
       "    </tr>\n",
       "    <tr>\n",
       "      <th>95</th>\n",
       "      <td>proven experience</td>\n",
       "      <td>2499</td>\n",
       "    </tr>\n",
       "    <tr>\n",
       "      <th>96</th>\n",
       "      <td>work closely</td>\n",
       "      <td>2499</td>\n",
       "    </tr>\n",
       "    <tr>\n",
       "      <th>97</th>\n",
       "      <td>business development</td>\n",
       "      <td>2492</td>\n",
       "    </tr>\n",
       "    <tr>\n",
       "      <th>98</th>\n",
       "      <td>please submit</td>\n",
       "      <td>2489</td>\n",
       "    </tr>\n",
       "    <tr>\n",
       "      <th>99</th>\n",
       "      <td>position please</td>\n",
       "      <td>2469</td>\n",
       "    </tr>\n",
       "  </tbody>\n",
       "</table>\n",
       "<p>100 rows × 2 columns</p>\n",
       "</div>"
      ],
      "text/plain": [
       "                       0      1\n",
       "0   communication skills  14930\n",
       "1       customer service  13802\n",
       "2              full time  10068\n",
       "3      skills experience  10021\n",
       "4           ability work   9197\n",
       "..                   ...    ...\n",
       "95     proven experience   2499\n",
       "96          work closely   2499\n",
       "97  business development   2492\n",
       "98         please submit   2489\n",
       "99       position please   2469\n",
       "\n",
       "[100 rows x 2 columns]"
      ]
     },
     "execution_count": 20,
     "metadata": {},
     "output_type": "execute_result"
    }
   ],
   "source": [
    "pd.DataFrame(content_bigram_freq).head(100)"
   ]
  },
  {
   "cell_type": "code",
   "execution_count": 21,
   "metadata": {
    "ExecuteTime": {
     "end_time": "2019-11-22T10:23:14.220231Z",
     "start_time": "2019-11-22T10:22:02.524460Z"
    }
   },
   "outputs": [],
   "source": [
    "content_trigram_freqs = ngram_frequency(contents,3)"
   ]
  },
  {
   "cell_type": "code",
   "execution_count": 22,
   "metadata": {
    "ExecuteTime": {
     "end_time": "2019-11-22T10:23:16.428897Z",
     "start_time": "2019-11-22T10:23:14.222455Z"
    }
   },
   "outputs": [
    {
     "data": {
      "text/html": [
       "<div>\n",
       "<style scoped>\n",
       "    .dataframe tbody tr th:only-of-type {\n",
       "        vertical-align: middle;\n",
       "    }\n",
       "\n",
       "    .dataframe tbody tr th {\n",
       "        vertical-align: top;\n",
       "    }\n",
       "\n",
       "    .dataframe thead th {\n",
       "        text-align: right;\n",
       "    }\n",
       "</style>\n",
       "<table border=\"1\" class=\"dataframe\">\n",
       "  <thead>\n",
       "    <tr style=\"text-align: right;\">\n",
       "      <th></th>\n",
       "      <th>0</th>\n",
       "      <th>1</th>\n",
       "    </tr>\n",
       "  </thead>\n",
       "  <tbody>\n",
       "    <tr>\n",
       "      <th>0</th>\n",
       "      <td>please click apply</td>\n",
       "      <td>3922</td>\n",
       "    </tr>\n",
       "    <tr>\n",
       "      <th>1</th>\n",
       "      <td>click apply button</td>\n",
       "      <td>3221</td>\n",
       "    </tr>\n",
       "    <tr>\n",
       "      <th>2</th>\n",
       "      <td>excellent communication skills</td>\n",
       "      <td>3079</td>\n",
       "    </tr>\n",
       "    <tr>\n",
       "      <th>3</th>\n",
       "      <td>work life balance</td>\n",
       "      <td>3032</td>\n",
       "    </tr>\n",
       "    <tr>\n",
       "      <th>4</th>\n",
       "      <td>aboriginal torres strait</td>\n",
       "      <td>2863</td>\n",
       "    </tr>\n",
       "    <tr>\n",
       "      <th>...</th>\n",
       "      <td>...</td>\n",
       "      <td>...</td>\n",
       "    </tr>\n",
       "    <tr>\n",
       "      <th>95</th>\n",
       "      <td>responsibilities include limited</td>\n",
       "      <td>732</td>\n",
       "    </tr>\n",
       "    <tr>\n",
       "      <th>96</th>\n",
       "      <td>full time role</td>\n",
       "      <td>728</td>\n",
       "    </tr>\n",
       "    <tr>\n",
       "      <th>97</th>\n",
       "      <td>long term career</td>\n",
       "      <td>722</td>\n",
       "    </tr>\n",
       "    <tr>\n",
       "      <th>98</th>\n",
       "      <td>management skills ability</td>\n",
       "      <td>720</td>\n",
       "    </tr>\n",
       "    <tr>\n",
       "      <th>99</th>\n",
       "      <td>key selection criteria</td>\n",
       "      <td>718</td>\n",
       "    </tr>\n",
       "  </tbody>\n",
       "</table>\n",
       "<p>100 rows × 2 columns</p>\n",
       "</div>"
      ],
      "text/plain": [
       "                                   0     1\n",
       "0                 please click apply  3922\n",
       "1                 click apply button  3221\n",
       "2     excellent communication skills  3079\n",
       "3                  work life balance  3032\n",
       "4           aboriginal torres strait  2863\n",
       "..                               ...   ...\n",
       "95  responsibilities include limited   732\n",
       "96                    full time role   728\n",
       "97                  long term career   722\n",
       "98         management skills ability   720\n",
       "99            key selection criteria   718\n",
       "\n",
       "[100 rows x 2 columns]"
      ]
     },
     "execution_count": 22,
     "metadata": {},
     "output_type": "execute_result"
    }
   ],
   "source": [
    "pd.DataFrame(content_trigram_freqs).head(100)"
   ]
  },
  {
   "cell_type": "markdown",
   "metadata": {
    "ExecuteTime": {
     "end_time": "2019-11-18T22:45:46.532430Z",
     "start_time": "2019-11-18T22:45:46.502469Z"
    }
   },
   "source": [
    "### Metadata\n",
    "\n",
    "In the `metadata` object we find the following fields:\n",
    "\n",
    "- `standout`: up to three key points about the ad\n",
    "- `additionalSalaryText`: salary range\n",
    "- `classification` and `subClassification`: categorization of the ad. In my opinion having this information may be useful to create a ontology of skill, responsabilities and requirements per caregory. \n",
    "- `location`, `area` and `suburb`: informtion about the location of the job advertised\n",
    "- `workType`: 'Casual/Vacation', 'Contract/Temp', 'Full Time' or 'Part Time'\n",
    "\n",
    "Not all the ads have data in all the fields, as you can see in the table below."
   ]
  },
  {
   "cell_type": "code",
   "execution_count": 23,
   "metadata": {
    "ExecuteTime": {
     "end_time": "2019-11-22T10:23:16.550366Z",
     "start_time": "2019-11-22T10:23:16.432401Z"
    }
   },
   "outputs": [
    {
     "data": {
      "text/html": [
       "<div>\n",
       "<style scoped>\n",
       "    .dataframe tbody tr th:only-of-type {\n",
       "        vertical-align: middle;\n",
       "    }\n",
       "\n",
       "    .dataframe tbody tr th {\n",
       "        vertical-align: top;\n",
       "    }\n",
       "\n",
       "    .dataframe thead th {\n",
       "        text-align: right;\n",
       "    }\n",
       "</style>\n",
       "<table border=\"1\" class=\"dataframe\">\n",
       "  <thead>\n",
       "    <tr style=\"text-align: right;\">\n",
       "      <th></th>\n",
       "      <th>Name</th>\n",
       "      <th>Counts</th>\n",
       "    </tr>\n",
       "  </thead>\n",
       "  <tbody>\n",
       "    <tr>\n",
       "      <th>0</th>\n",
       "      <td>standout</td>\n",
       "      <td>26685</td>\n",
       "    </tr>\n",
       "    <tr>\n",
       "      <th>1</th>\n",
       "      <td>additionalSalaryText</td>\n",
       "      <td>16349</td>\n",
       "    </tr>\n",
       "    <tr>\n",
       "      <th>2</th>\n",
       "      <td>classification</td>\n",
       "      <td>50000</td>\n",
       "    </tr>\n",
       "    <tr>\n",
       "      <th>3</th>\n",
       "      <td>subClassification</td>\n",
       "      <td>50000</td>\n",
       "    </tr>\n",
       "    <tr>\n",
       "      <th>4</th>\n",
       "      <td>location</td>\n",
       "      <td>50000</td>\n",
       "    </tr>\n",
       "    <tr>\n",
       "      <th>5</th>\n",
       "      <td>workType</td>\n",
       "      <td>50000</td>\n",
       "    </tr>\n",
       "    <tr>\n",
       "      <th>6</th>\n",
       "      <td>area</td>\n",
       "      <td>32844</td>\n",
       "    </tr>\n",
       "    <tr>\n",
       "      <th>7</th>\n",
       "      <td>suburb</td>\n",
       "      <td>37002</td>\n",
       "    </tr>\n",
       "  </tbody>\n",
       "</table>\n",
       "</div>"
      ],
      "text/plain": [
       "                   Name  Counts\n",
       "0              standout   26685\n",
       "1  additionalSalaryText   16349\n",
       "2        classification   50000\n",
       "3     subClassification   50000\n",
       "4              location   50000\n",
       "5              workType   50000\n",
       "6                  area   32844\n",
       "7                suburb   37002"
      ]
     },
     "execution_count": 23,
     "metadata": {},
     "output_type": "execute_result"
    }
   ],
   "source": [
    "metadata_content = defaultdict(int)\n",
    "for ad in ads:\n",
    "    for key in ad['metadata'].keys():\n",
    "        metadata_content[key] += 1\n",
    "        \n",
    "pd.DataFrame(metadata_content.items(), columns=['Name', 'Counts'])"
   ]
  },
  {
   "cell_type": "code",
   "execution_count": 24,
   "metadata": {
    "ExecuteTime": {
     "end_time": "2019-11-22T10:23:16.642816Z",
     "start_time": "2019-11-22T10:23:16.552655Z"
    },
    "scrolled": false
   },
   "outputs": [],
   "source": [
    "metadata = set()\n",
    "classification = defaultdict(int)\n",
    "sub_classification = defaultdict(int)\n",
    "for ad in ads:\n",
    "    classification[ad['metadata']['classification']['name']] += 1\n",
    "    sub_classification[ad['metadata']['subClassification']['name']] += 1"
   ]
  },
  {
   "cell_type": "code",
   "execution_count": 25,
   "metadata": {
    "ExecuteTime": {
     "end_time": "2019-11-22T10:23:18.296990Z",
     "start_time": "2019-11-22T10:23:16.644816Z"
    },
    "scrolled": false
   },
   "outputs": [
    {
     "data": {
      "image/png": "[encoded data removed]",
      "text/plain": [
       "<Figure size 1080x720 with 1 Axes>"
      ]
     },
     "metadata": {
      "image/png": {
       "height": 622,
       "width": 1176
      },
      "needs_background": "light"
     },
     "output_type": "display_data"
    }
   ],
   "source": [
    "%config InlineBackend.figure_format ='retina'\n",
    "import matplotlib.pyplot as plt\n",
    "import operator\n",
    "def plot_bar_x(labels, counts, title):\n",
    "    plt.figure(figsize=(15,10))\n",
    "    index = np.arange(len(labels))\n",
    "    plt.barh(index, counts)\n",
    "    plt.xlabel('Ads', fontsize=15)\n",
    "    plt.yticks(index, labels, fontsize=15)\n",
    "    plt.title(title, fontsize=30)\n",
    "    plt.show()\n",
    "\n",
    "labels, counts = zip(*sorted(classification.items(), key=operator.itemgetter(1), reverse=True))\n",
    "plot_bar_x(labels, counts, title='Distribution of ads across categories.')"
   ]
  },
  {
   "cell_type": "markdown",
   "metadata": {
    "ExecuteTime": {
     "end_time": "2019-11-21T03:48:55.246316Z",
     "start_time": "2019-11-21T03:48:55.211243Z"
    }
   },
   "source": [
    "NB: Because there are 337 subcategories in these ads, I cannot plot them so I will just print them as a table. "
   ]
  },
  {
   "cell_type": "code",
   "execution_count": 26,
   "metadata": {
    "ExecuteTime": {
     "end_time": "2019-11-22T10:23:18.357062Z",
     "start_time": "2019-11-22T10:23:18.305082Z"
    }
   },
   "outputs": [
    {
     "data": {
      "text/html": [
       "<div>\n",
       "<style scoped>\n",
       "    .dataframe tbody tr th:only-of-type {\n",
       "        vertical-align: middle;\n",
       "    }\n",
       "\n",
       "    .dataframe tbody tr th {\n",
       "        vertical-align: top;\n",
       "    }\n",
       "\n",
       "    .dataframe thead th {\n",
       "        text-align: right;\n",
       "    }\n",
       "</style>\n",
       "<table border=\"1\" class=\"dataframe\">\n",
       "  <thead>\n",
       "    <tr style=\"text-align: right;\">\n",
       "      <th></th>\n",
       "      <th>Subcategory</th>\n",
       "      <th>Counts</th>\n",
       "    </tr>\n",
       "  </thead>\n",
       "  <tbody>\n",
       "    <tr>\n",
       "      <th>0</th>\n",
       "      <td>Other</td>\n",
       "      <td>2688</td>\n",
       "    </tr>\n",
       "    <tr>\n",
       "      <th>4</th>\n",
       "      <td>Management</td>\n",
       "      <td>1618</td>\n",
       "    </tr>\n",
       "    <tr>\n",
       "      <th>32</th>\n",
       "      <td>Administrative Assistants</td>\n",
       "      <td>1131</td>\n",
       "    </tr>\n",
       "    <tr>\n",
       "      <th>29</th>\n",
       "      <td>Developers/Programmers</td>\n",
       "      <td>1072</td>\n",
       "    </tr>\n",
       "    <tr>\n",
       "      <th>9</th>\n",
       "      <td>Sales Representatives/Consultants</td>\n",
       "      <td>1038</td>\n",
       "    </tr>\n",
       "    <tr>\n",
       "      <th>13</th>\n",
       "      <td>Warehousing, Storage &amp; Distribution</td>\n",
       "      <td>907</td>\n",
       "    </tr>\n",
       "    <tr>\n",
       "      <th>63</th>\n",
       "      <td>Automotive Trades</td>\n",
       "      <td>901</td>\n",
       "    </tr>\n",
       "    <tr>\n",
       "      <th>8</th>\n",
       "      <td>Chefs/Cooks</td>\n",
       "      <td>802</td>\n",
       "    </tr>\n",
       "    <tr>\n",
       "      <th>1</th>\n",
       "      <td>Retail Assistants</td>\n",
       "      <td>726</td>\n",
       "    </tr>\n",
       "    <tr>\n",
       "      <th>71</th>\n",
       "      <td>Business/Systems Analysts</td>\n",
       "      <td>637</td>\n",
       "    </tr>\n",
       "    <tr>\n",
       "      <th>16</th>\n",
       "      <td>Nursing - Aged Care</td>\n",
       "      <td>620</td>\n",
       "    </tr>\n",
       "    <tr>\n",
       "      <th>19</th>\n",
       "      <td>Physiotherapy, OT &amp; Rehabilitation</td>\n",
       "      <td>614</td>\n",
       "    </tr>\n",
       "    <tr>\n",
       "      <th>139</th>\n",
       "      <td>Management - Store</td>\n",
       "      <td>608</td>\n",
       "    </tr>\n",
       "    <tr>\n",
       "      <th>51</th>\n",
       "      <td>Government - State</td>\n",
       "      <td>579</td>\n",
       "    </tr>\n",
       "    <tr>\n",
       "      <th>127</th>\n",
       "      <td>Childcare &amp; Outside School Hours Care</td>\n",
       "      <td>575</td>\n",
       "    </tr>\n",
       "    <tr>\n",
       "      <th>73</th>\n",
       "      <td>Project Management</td>\n",
       "      <td>557</td>\n",
       "    </tr>\n",
       "    <tr>\n",
       "      <th>138</th>\n",
       "      <td>Aged &amp; Disability Support</td>\n",
       "      <td>551</td>\n",
       "    </tr>\n",
       "    <tr>\n",
       "      <th>61</th>\n",
       "      <td>New Business Development</td>\n",
       "      <td>548</td>\n",
       "    </tr>\n",
       "    <tr>\n",
       "      <th>152</th>\n",
       "      <td>Mining - Engineering &amp; Maintenance</td>\n",
       "      <td>535</td>\n",
       "    </tr>\n",
       "    <tr>\n",
       "      <th>43</th>\n",
       "      <td>Customer Service - Call Centre</td>\n",
       "      <td>533</td>\n",
       "    </tr>\n",
       "    <tr>\n",
       "      <th>20</th>\n",
       "      <td>Account &amp; Relationship Management</td>\n",
       "      <td>531</td>\n",
       "    </tr>\n",
       "    <tr>\n",
       "      <th>76</th>\n",
       "      <td>Civil/Structural Engineering</td>\n",
       "      <td>507</td>\n",
       "    </tr>\n",
       "    <tr>\n",
       "      <th>105</th>\n",
       "      <td>Programme &amp; Project Management</td>\n",
       "      <td>476</td>\n",
       "    </tr>\n",
       "    <tr>\n",
       "      <th>42</th>\n",
       "      <td>Electricians</td>\n",
       "      <td>441</td>\n",
       "    </tr>\n",
       "    <tr>\n",
       "      <th>103</th>\n",
       "      <td>Fitters, Turners &amp; Machinists</td>\n",
       "      <td>421</td>\n",
       "    </tr>\n",
       "    <tr>\n",
       "      <th>134</th>\n",
       "      <td>Engineering - Software</td>\n",
       "      <td>419</td>\n",
       "    </tr>\n",
       "    <tr>\n",
       "      <th>90</th>\n",
       "      <td>Road Transport</td>\n",
       "      <td>401</td>\n",
       "    </tr>\n",
       "    <tr>\n",
       "      <th>5</th>\n",
       "      <td>Business Services &amp; Corporate Advisory</td>\n",
       "      <td>397</td>\n",
       "    </tr>\n",
       "    <tr>\n",
       "      <th>25</th>\n",
       "      <td>Foreperson/Supervisors</td>\n",
       "      <td>394</td>\n",
       "    </tr>\n",
       "    <tr>\n",
       "      <th>99</th>\n",
       "      <td>Financial Accounting &amp; Reporting</td>\n",
       "      <td>391</td>\n",
       "    </tr>\n",
       "    <tr>\n",
       "      <th>88</th>\n",
       "      <td>Government - Local</td>\n",
       "      <td>384</td>\n",
       "    </tr>\n",
       "    <tr>\n",
       "      <th>53</th>\n",
       "      <td>Residential Leasing &amp; Property Management</td>\n",
       "      <td>380</td>\n",
       "    </tr>\n",
       "    <tr>\n",
       "      <th>12</th>\n",
       "      <td>Help Desk &amp; IT Support</td>\n",
       "      <td>370</td>\n",
       "    </tr>\n",
       "    <tr>\n",
       "      <th>24</th>\n",
       "      <td>Labourers</td>\n",
       "      <td>369</td>\n",
       "    </tr>\n",
       "    <tr>\n",
       "      <th>40</th>\n",
       "      <td>Mining - Operations</td>\n",
       "      <td>356</td>\n",
       "    </tr>\n",
       "    <tr>\n",
       "      <th>22</th>\n",
       "      <td>Recruitment - Agency</td>\n",
       "      <td>352</td>\n",
       "    </tr>\n",
       "    <tr>\n",
       "      <th>82</th>\n",
       "      <td>Government - Federal</td>\n",
       "      <td>350</td>\n",
       "    </tr>\n",
       "    <tr>\n",
       "      <th>54</th>\n",
       "      <td>PA, EA &amp; Secretarial</td>\n",
       "      <td>349</td>\n",
       "    </tr>\n",
       "    <tr>\n",
       "      <th>158</th>\n",
       "      <td>Technicians</td>\n",
       "      <td>341</td>\n",
       "    </tr>\n",
       "    <tr>\n",
       "      <th>140</th>\n",
       "      <td>Analysis &amp; Reporting</td>\n",
       "      <td>330</td>\n",
       "    </tr>\n",
       "    <tr>\n",
       "      <th>193</th>\n",
       "      <td>Consulting &amp; Generalist HR</td>\n",
       "      <td>318</td>\n",
       "    </tr>\n",
       "    <tr>\n",
       "      <th>86</th>\n",
       "      <td>Receptionists</td>\n",
       "      <td>300</td>\n",
       "    </tr>\n",
       "    <tr>\n",
       "      <th>50</th>\n",
       "      <td>Psychology, Counselling &amp; Social Work</td>\n",
       "      <td>298</td>\n",
       "    </tr>\n",
       "    <tr>\n",
       "      <th>26</th>\n",
       "      <td>Plant &amp; Machinery Operators</td>\n",
       "      <td>294</td>\n",
       "    </tr>\n",
       "    <tr>\n",
       "      <th>6</th>\n",
       "      <td>Child Welfare, Youth &amp; Family Services</td>\n",
       "      <td>292</td>\n",
       "    </tr>\n",
       "    <tr>\n",
       "      <th>77</th>\n",
       "      <td>Welders &amp; Boilermakers</td>\n",
       "      <td>288</td>\n",
       "    </tr>\n",
       "    <tr>\n",
       "      <th>41</th>\n",
       "      <td>Dental</td>\n",
       "      <td>279</td>\n",
       "    </tr>\n",
       "    <tr>\n",
       "      <th>142</th>\n",
       "      <td>Nursing - General Medical &amp; Surgical</td>\n",
       "      <td>275</td>\n",
       "    </tr>\n",
       "    <tr>\n",
       "      <th>114</th>\n",
       "      <td>Networks &amp; Systems Administration</td>\n",
       "      <td>274</td>\n",
       "    </tr>\n",
       "    <tr>\n",
       "      <th>79</th>\n",
       "      <td>Teaching - Early Childhood</td>\n",
       "      <td>267</td>\n",
       "    </tr>\n",
       "    <tr>\n",
       "      <th>2</th>\n",
       "      <td>Consultants</td>\n",
       "      <td>267</td>\n",
       "    </tr>\n",
       "    <tr>\n",
       "      <th>131</th>\n",
       "      <td>Marketing Communications</td>\n",
       "      <td>264</td>\n",
       "    </tr>\n",
       "    <tr>\n",
       "      <th>74</th>\n",
       "      <td>Bar &amp; Beverage Staff</td>\n",
       "      <td>263</td>\n",
       "    </tr>\n",
       "    <tr>\n",
       "      <th>203</th>\n",
       "      <td>Machine Operators</td>\n",
       "      <td>263</td>\n",
       "    </tr>\n",
       "    <tr>\n",
       "      <th>113</th>\n",
       "      <td>Estimating</td>\n",
       "      <td>262</td>\n",
       "    </tr>\n",
       "    <tr>\n",
       "      <th>17</th>\n",
       "      <td>Payroll</td>\n",
       "      <td>256</td>\n",
       "    </tr>\n",
       "    <tr>\n",
       "      <th>55</th>\n",
       "      <td>Digital &amp; Search Marketing</td>\n",
       "      <td>247</td>\n",
       "    </tr>\n",
       "    <tr>\n",
       "      <th>125</th>\n",
       "      <td>Legal Secretaries</td>\n",
       "      <td>246</td>\n",
       "    </tr>\n",
       "    <tr>\n",
       "      <th>62</th>\n",
       "      <td>Carpentry &amp; Cabinet Making</td>\n",
       "      <td>246</td>\n",
       "    </tr>\n",
       "    <tr>\n",
       "      <th>67</th>\n",
       "      <td>Architects</td>\n",
       "      <td>243</td>\n",
       "    </tr>\n",
       "    <tr>\n",
       "      <th>45</th>\n",
       "      <td>Medical Administration</td>\n",
       "      <td>243</td>\n",
       "    </tr>\n",
       "    <tr>\n",
       "      <th>38</th>\n",
       "      <td>Teaching - Secondary</td>\n",
       "      <td>242</td>\n",
       "    </tr>\n",
       "    <tr>\n",
       "      <th>84</th>\n",
       "      <td>Management - Department/Assistant</td>\n",
       "      <td>241</td>\n",
       "    </tr>\n",
       "    <tr>\n",
       "      <th>65</th>\n",
       "      <td>Waiting Staff</td>\n",
       "      <td>240</td>\n",
       "    </tr>\n",
       "    <tr>\n",
       "      <th>185</th>\n",
       "      <td>Client &amp; Sales Administration</td>\n",
       "      <td>239</td>\n",
       "    </tr>\n",
       "    <tr>\n",
       "      <th>81</th>\n",
       "      <td>Assembly &amp; Process Work</td>\n",
       "      <td>232</td>\n",
       "    </tr>\n",
       "    <tr>\n",
       "      <th>175</th>\n",
       "      <td>Pharmacy</td>\n",
       "      <td>227</td>\n",
       "    </tr>\n",
       "    <tr>\n",
       "      <th>117</th>\n",
       "      <td>Hair &amp; Beauty Services</td>\n",
       "      <td>221</td>\n",
       "    </tr>\n",
       "    <tr>\n",
       "      <th>57</th>\n",
       "      <td>Contracts Management</td>\n",
       "      <td>213</td>\n",
       "    </tr>\n",
       "    <tr>\n",
       "      <th>94</th>\n",
       "      <td>General Practitioners</td>\n",
       "      <td>211</td>\n",
       "    </tr>\n",
       "    <tr>\n",
       "      <th>120</th>\n",
       "      <td>Accounts Officers/Clerks</td>\n",
       "      <td>210</td>\n",
       "    </tr>\n",
       "    <tr>\n",
       "      <th>49</th>\n",
       "      <td>Compliance &amp; Risk</td>\n",
       "      <td>209</td>\n",
       "    </tr>\n",
       "    <tr>\n",
       "      <th>144</th>\n",
       "      <td>Electrical/Electronic Engineering</td>\n",
       "      <td>209</td>\n",
       "    </tr>\n",
       "    <tr>\n",
       "      <th>143</th>\n",
       "      <td>Building Trades</td>\n",
       "      <td>208</td>\n",
       "    </tr>\n",
       "    <tr>\n",
       "      <th>108</th>\n",
       "      <td>Testing &amp; Quality Assurance</td>\n",
       "      <td>202</td>\n",
       "    </tr>\n",
       "    <tr>\n",
       "      <th>129</th>\n",
       "      <td>Government</td>\n",
       "      <td>198</td>\n",
       "    </tr>\n",
       "    <tr>\n",
       "      <th>39</th>\n",
       "      <td>Accounts Payable</td>\n",
       "      <td>195</td>\n",
       "    </tr>\n",
       "    <tr>\n",
       "      <th>34</th>\n",
       "      <td>Couriers, Drivers &amp; Postal Services</td>\n",
       "      <td>186</td>\n",
       "    </tr>\n",
       "    <tr>\n",
       "      <th>23</th>\n",
       "      <td>Marketing Assistants/Coordinators</td>\n",
       "      <td>186</td>\n",
       "    </tr>\n",
       "    <tr>\n",
       "      <th>92</th>\n",
       "      <td>Financial Managers &amp; Controllers</td>\n",
       "      <td>185</td>\n",
       "    </tr>\n",
       "    <tr>\n",
       "      <th>184</th>\n",
       "      <td>Purchasing, Procurement &amp; Inventory</td>\n",
       "      <td>182</td>\n",
       "    </tr>\n",
       "    <tr>\n",
       "      <th>135</th>\n",
       "      <td>Accounts Receivable/Credit Control</td>\n",
       "      <td>180</td>\n",
       "    </tr>\n",
       "    <tr>\n",
       "      <th>102</th>\n",
       "      <td>Gardening &amp; Landscaping</td>\n",
       "      <td>179</td>\n",
       "    </tr>\n",
       "    <tr>\n",
       "      <th>107</th>\n",
       "      <td>Production, Planning &amp; Scheduling</td>\n",
       "      <td>179</td>\n",
       "    </tr>\n",
       "    <tr>\n",
       "      <th>28</th>\n",
       "      <td>Management Accounting &amp; Budgeting</td>\n",
       "      <td>178</td>\n",
       "    </tr>\n",
       "    <tr>\n",
       "      <th>168</th>\n",
       "      <td>Office Management</td>\n",
       "      <td>173</td>\n",
       "    </tr>\n",
       "    <tr>\n",
       "      <th>36</th>\n",
       "      <td>Teaching - Vocational</td>\n",
       "      <td>165</td>\n",
       "    </tr>\n",
       "    <tr>\n",
       "      <th>173</th>\n",
       "      <td>Health, Safety &amp; Environment</td>\n",
       "      <td>165</td>\n",
       "    </tr>\n",
       "    <tr>\n",
       "      <th>58</th>\n",
       "      <td>Plumbers</td>\n",
       "      <td>160</td>\n",
       "    </tr>\n",
       "    <tr>\n",
       "      <th>11</th>\n",
       "      <td>Medical Imaging</td>\n",
       "      <td>160</td>\n",
       "    </tr>\n",
       "    <tr>\n",
       "      <th>18</th>\n",
       "      <td>Financial Planning</td>\n",
       "      <td>159</td>\n",
       "    </tr>\n",
       "    <tr>\n",
       "      <th>59</th>\n",
       "      <td>Security</td>\n",
       "      <td>153</td>\n",
       "    </tr>\n",
       "    <tr>\n",
       "      <th>194</th>\n",
       "      <td>Customer Service - Customer Facing</td>\n",
       "      <td>153</td>\n",
       "    </tr>\n",
       "    <tr>\n",
       "      <th>106</th>\n",
       "      <td>Employment Services</td>\n",
       "      <td>151</td>\n",
       "    </tr>\n",
       "    <tr>\n",
       "      <th>30</th>\n",
       "      <td>Recruitment - Internal</td>\n",
       "      <td>150</td>\n",
       "    </tr>\n",
       "    <tr>\n",
       "      <th>146</th>\n",
       "      <td>Building Services Engineering</td>\n",
       "      <td>150</td>\n",
       "    </tr>\n",
       "    <tr>\n",
       "      <th>21</th>\n",
       "      <td>Travel Agents/Consultants</td>\n",
       "      <td>149</td>\n",
       "    </tr>\n",
       "    <tr>\n",
       "      <th>157</th>\n",
       "      <td>Database Development &amp; Administration</td>\n",
       "      <td>148</td>\n",
       "    </tr>\n",
       "    <tr>\n",
       "      <th>112</th>\n",
       "      <td>Pharmaceuticals &amp; Medical Devices</td>\n",
       "      <td>147</td>\n",
       "    </tr>\n",
       "    <tr>\n",
       "      <th>93</th>\n",
       "      <td>Engineering - Network</td>\n",
       "      <td>147</td>\n",
       "    </tr>\n",
       "  </tbody>\n",
       "</table>\n",
       "</div>"
      ],
      "text/plain": [
       "                                   Subcategory  Counts\n",
       "0                                        Other    2688\n",
       "4                                   Management    1618\n",
       "32                   Administrative Assistants    1131\n",
       "29                      Developers/Programmers    1072\n",
       "9            Sales Representatives/Consultants    1038\n",
       "13         Warehousing, Storage & Distribution     907\n",
       "63                           Automotive Trades     901\n",
       "8                                  Chefs/Cooks     802\n",
       "1                            Retail Assistants     726\n",
       "71                   Business/Systems Analysts     637\n",
       "16                         Nursing - Aged Care     620\n",
       "19          Physiotherapy, OT & Rehabilitation     614\n",
       "139                         Management - Store     608\n",
       "51                          Government - State     579\n",
       "127      Childcare & Outside School Hours Care     575\n",
       "73                          Project Management     557\n",
       "138                  Aged & Disability Support     551\n",
       "61                    New Business Development     548\n",
       "152         Mining - Engineering & Maintenance     535\n",
       "43              Customer Service - Call Centre     533\n",
       "20           Account & Relationship Management     531\n",
       "76                Civil/Structural Engineering     507\n",
       "105             Programme & Project Management     476\n",
       "42                                Electricians     441\n",
       "103              Fitters, Turners & Machinists     421\n",
       "134                     Engineering - Software     419\n",
       "90                              Road Transport     401\n",
       "5       Business Services & Corporate Advisory     397\n",
       "25                      Foreperson/Supervisors     394\n",
       "99            Financial Accounting & Reporting     391\n",
       "88                          Government - Local     384\n",
       "53   Residential Leasing & Property Management     380\n",
       "12                      Help Desk & IT Support     370\n",
       "24                                   Labourers     369\n",
       "40                         Mining - Operations     356\n",
       "22                        Recruitment - Agency     352\n",
       "82                        Government - Federal     350\n",
       "54                        PA, EA & Secretarial     349\n",
       "158                                Technicians     341\n",
       "140                       Analysis & Reporting     330\n",
       "193                 Consulting & Generalist HR     318\n",
       "86                               Receptionists     300\n",
       "50       Psychology, Counselling & Social Work     298\n",
       "26                 Plant & Machinery Operators     294\n",
       "6       Child Welfare, Youth & Family Services     292\n",
       "77                      Welders & Boilermakers     288\n",
       "41                                      Dental     279\n",
       "142       Nursing - General Medical & Surgical     275\n",
       "114          Networks & Systems Administration     274\n",
       "79                  Teaching - Early Childhood     267\n",
       "2                                  Consultants     267\n",
       "131                   Marketing Communications     264\n",
       "74                        Bar & Beverage Staff     263\n",
       "203                          Machine Operators     263\n",
       "113                                 Estimating     262\n",
       "17                                     Payroll     256\n",
       "55                  Digital & Search Marketing     247\n",
       "125                          Legal Secretaries     246\n",
       "62                  Carpentry & Cabinet Making     246\n",
       "67                                  Architects     243\n",
       "45                      Medical Administration     243\n",
       "38                        Teaching - Secondary     242\n",
       "84           Management - Department/Assistant     241\n",
       "65                               Waiting Staff     240\n",
       "185              Client & Sales Administration     239\n",
       "81                     Assembly & Process Work     232\n",
       "175                                   Pharmacy     227\n",
       "117                     Hair & Beauty Services     221\n",
       "57                        Contracts Management     213\n",
       "94                       General Practitioners     211\n",
       "120                   Accounts Officers/Clerks     210\n",
       "49                           Compliance & Risk     209\n",
       "144          Electrical/Electronic Engineering     209\n",
       "143                            Building Trades     208\n",
       "108                Testing & Quality Assurance     202\n",
       "129                                 Government     198\n",
       "39                            Accounts Payable     195\n",
       "34         Couriers, Drivers & Postal Services     186\n",
       "23           Marketing Assistants/Coordinators     186\n",
       "92            Financial Managers & Controllers     185\n",
       "184        Purchasing, Procurement & Inventory     182\n",
       "135         Accounts Receivable/Credit Control     180\n",
       "102                    Gardening & Landscaping     179\n",
       "107          Production, Planning & Scheduling     179\n",
       "28           Management Accounting & Budgeting     178\n",
       "168                          Office Management     173\n",
       "36                       Teaching - Vocational     165\n",
       "173               Health, Safety & Environment     165\n",
       "58                                    Plumbers     160\n",
       "11                             Medical Imaging     160\n",
       "18                          Financial Planning     159\n",
       "59                                    Security     153\n",
       "194         Customer Service - Customer Facing     153\n",
       "106                        Employment Services     151\n",
       "30                      Recruitment - Internal     150\n",
       "146              Building Services Engineering     150\n",
       "21                   Travel Agents/Consultants     149\n",
       "157      Database Development & Administration     148\n",
       "112          Pharmaceuticals & Medical Devices     147\n",
       "93                       Engineering - Network     147"
      ]
     },
     "execution_count": 26,
     "metadata": {},
     "output_type": "execute_result"
    }
   ],
   "source": [
    "pd.set_option('display.max_rows', 100)\n",
    "pd.DataFrame(sub_classification.items(), columns=[\"Subcategory\", \"Counts\"]).sort_values(by=\"Counts\", ascending=False).head(100)"
   ]
  },
  {
   "cell_type": "markdown",
   "metadata": {
    "ExecuteTime": {
     "end_time": "2019-11-19T01:28:22.739448Z",
     "start_time": "2019-11-19T01:28:22.653241Z"
    }
   },
   "source": [
    "\n",
    "## Keyword extraction\n",
    "\n",
    "As I explained before, for keywords extraction, I use the `content` field of the ad as input corpus, to obtain the target information. As part of the preprocessing, I remove the HTML tags and I clean some entities such as email addresses, URLs and numbers. Unfortunately, the text is still very noisy but due to time constraints, I didn't spend more time on this.\n",
    "\n",
    "For keyword extraction, I chose to use three different types of algorithms:\n",
    "\n",
    "- **Tf-Idf**: extracts keywords based on the frequency of a term in a document against its frequency in the whole corpus. \n",
    "- **Rake**: extracts keywords based on stopwords and word frequencies.\n",
    "- **TextRank**: extracts keywords based on a graph representation of a text."
   ]
  },
  {
   "cell_type": "code",
   "execution_count": 30,
   "metadata": {
    "ExecuteTime": {
     "end_time": "2019-11-22T10:27:24.429484Z",
     "start_time": "2019-11-22T10:26:06.313091Z"
    }
   },
   "outputs": [
    {
     "name": "stderr",
     "output_type": "stream",
     "text": [
      "100%|██████████| 50000/50000 [01:18<00:00, 640.52it/s]\n"
     ]
    }
   ],
   "source": [
    "corpus = [clean_text(remove_html_tags(ad['content'])).lower() for ad in tqdm(ads)]"
   ]
  },
  {
   "cell_type": "code",
   "execution_count": 31,
   "metadata": {
    "ExecuteTime": {
     "end_time": "2019-11-22T10:27:24.468177Z",
     "start_time": "2019-11-22T10:27:24.432061Z"
    }
   },
   "outputs": [
    {
     "data": {
      "text/plain": [
       "50000"
      ]
     },
     "execution_count": 31,
     "metadata": {},
     "output_type": "execute_result"
    }
   ],
   "source": [
    "len(corpus)"
   ]
  },
  {
   "cell_type": "markdown",
   "metadata": {},
   "source": [
    "### Tf-Idf \n",
    "\n",
    "$Tf-Idf$ stands for Term Frequency - Inverse Document Frequency. It is a score that intends to reflect how important a term is for a document in a collection of documents. It's formula is:\n",
    "\n",
    "$$tf-idf(t, d) = tf(t, d) * idf(t)$$\n",
    "\n",
    "$tf(t, d)$ computes how many times the term $t$ occurs in the document $d$, and $idf(t)$ is the  inverse of the document frequency $df(d, t)$, how many documents contain the term $t$. To avoid dividing by zero, $idf(t)$ is computed using the formula: \n",
    "\n",
    "$$idf(d, t) = log [ (1 + n) / (1 + df(d, t)) ] + 1$$\n",
    "\n",
    "To compute the $Tf-Idf$ score, first, we need to compute the $Idf$ for each term in the corpus. I serialize it as it takes a while to compute it and we use the same model for all the articles. This doesn't have to be recomputed for each new article, just updated periodically in order to have a reliable representation of the words in the corpus. \n",
    "\n",
    "For this exercise, I chose to use terms that are words, bigrams or trigrams, that occur at least 10 times in the corpus and I return the top keywords, 10% of the total number of tokens.\n",
    "\n",
    "Note: I haven't had time to test these numbers, further analysis is required to set these parameters.\n"
   ]
  },
  {
   "cell_type": "code",
   "execution_count": 34,
   "metadata": {
    "ExecuteTime": {
     "end_time": "2019-11-22T10:32:10.339675Z",
     "start_time": "2019-11-22T10:30:45.710487Z"
    }
   },
   "outputs": [],
   "source": [
    "keywords_tfidf = KeywordsTfidf()\n",
    "keywords_tfidf.compute_idf(corpus)"
   ]
  },
  {
   "cell_type": "code",
   "execution_count": 35,
   "metadata": {
    "ExecuteTime": {
     "end_time": "2019-11-22T10:32:50.710640Z",
     "start_time": "2019-11-22T10:32:50.654082Z"
    }
   },
   "outputs": [],
   "source": [
    "def get_tfidf_keywords(ad):\n",
    "    ad_content = clean_text(remove_html_tags(ad['content'])).lower()\n",
    "    keywords = keywords_tfidf.get_keywords(ad_content)\n",
    "    keywords = find_keywords_in_text(keywords, ad['content'].split('\\n'))\n",
    "    return keywords"
   ]
  },
  {
   "cell_type": "markdown",
   "metadata": {},
   "source": [
    "### RAKE \n",
    "\n",
    "RAKE stands for Rapid Automatic Keyword Extraction. For this approach, I used an existing [implementation in python](https://github.com/fabianvf/python-rake).\n",
    "\n",
    "Rake uses a list of stop words in context to find keyword candidates. Each word is weighted based on its frequency and the frequency of the keyword candidates where it appears. Each candidate is finally weighted using the sum of the scores of its words. I return the top keywords, 10% of the total number of tokens.\n",
    "\n",
    "Note: Using this approach all the candidate phrases do not contain stopwords. I haven't had time to test the number of keywords to be returned. "
   ]
  },
  {
   "cell_type": "code",
   "execution_count": 36,
   "metadata": {
    "ExecuteTime": {
     "end_time": "2019-11-22T10:33:13.020483Z",
     "start_time": "2019-11-22T10:33:12.974692Z"
    }
   },
   "outputs": [],
   "source": [
    "keywords_rake = KeywordsRake()"
   ]
  },
  {
   "cell_type": "code",
   "execution_count": 37,
   "metadata": {
    "ExecuteTime": {
     "end_time": "2019-11-22T10:33:14.233190Z",
     "start_time": "2019-11-22T10:33:14.195792Z"
    }
   },
   "outputs": [],
   "source": [
    "def get_rake_keywords(ad):\n",
    "    ad_content = clean_text(remove_html_tags(ad['content']))\n",
    "    keywords = keywords_rake.get_keywords(ad_content)\n",
    "    keywords, _ = zip(*keywords)\n",
    "    return list(keywords)"
   ]
  },
  {
   "cell_type": "markdown",
   "metadata": {},
   "source": [
    "### TextRank\n",
    "\n",
    "TextRank is a graph-based algorithm for keyword extraction. The algorithm is inspired by the PageRank algorithm that was used to rank web pages at Google. In the case of webpages, we compute the page rank as follows.\n",
    "\n",
    "$$PR(p_i) = ({1-d}) + d \\sum_{p_j \\in In(p_i)} \\frac{PR (p_j)}{Out(p_j)}$$ \n",
    "\n",
    "where $p_1,p_2,...,p_N$ are the analysed webpages, $In(p_i)$ is the set of pages that link to $p_i$ and $Out(p_j)$ is the set of outbound links on page $p_j$ and $N$ is the total number of pages. $d$ is the residual probability, and $1-d$ represents the probability that the user will surf to a random page.\n",
    "\n",
    "For the extraction of keywords, the algorithm computes a graph using candidate words that can belong to a keyword. The edges of the graph represent relations between words, in this case, they represent the co-occurrences of the words. Each edge is weighted by the logarithm of the number of co-occurrences of the corresponding words. Using this graph representation, the nodes are scored using the following formula:\n",
    "\n",
    "$$WS(w_i) = ({1-d}) + d \\sum_{w_j \\in In(w_i)} \\frac{w_{ij}}{\\sum_{w_k \\in Out(w_j)}w_{jk}}WS(w_j)$$\n",
    "\n",
    "where $w_i$ are words, $In(w_i)$ and $Out(w_i)$ are co-occurring words with $w_i$. The graph that I used is undirected, therefore $In(w_i)=Out(w_i)$.\n",
    "\n",
    "To extract keywords with TextRank I used a modified version of this [GitHub repository](https://github.com/davidadamojr/TextRank).\n",
    "\n",
    "The original version creates a graph using the nouns and adjectives that occur in the text and it adds an edge between any 2 nodes, weighted by their edit distance. In my version, I connect only those 2 nodes that co-occur in corpus at least 10 times. Moreover, I changed the code so that the edge weighting scheme can be easily changed, as it does not belong to the algorithm. I marked my modifications in the `keywords/textrank/__init__.py` with `#silvia`.\n",
    "\n",
    "There is another distribution of TextRank, called [pytextrank](https://github.com/DerwenAI/pytextrank), that I have tried. I liked it because it uses a direct graph created with dependency relations between words. However, it takes around 2 sec per ad to return the keywords, which in my opinion is too slow. Additionally, the parsing is encoded inside the framework, another thing that I disliked. \n",
    "\n",
    "To use the TextRank algorithm, I initially compute the co-occurrences between words in the corpus. In this case, we are interested to have as much information as possible for a reliable representation of co-occurring words, so I create a new corpus using the `title`, `abstract` and `content` of the articles."
   ]
  },
  {
   "cell_type": "code",
   "execution_count": 38,
   "metadata": {
    "ExecuteTime": {
     "end_time": "2019-11-22T10:36:36.962969Z",
     "start_time": "2019-11-22T10:35:11.851228Z"
    }
   },
   "outputs": [
    {
     "name": "stderr",
     "output_type": "stream",
     "text": [
      "100%|██████████| 50000/50000 [01:25<00:00, 588.10it/s]\n"
     ]
    }
   ],
   "source": [
    "corpus_cooc = []\n",
    "for ad in tqdm(ads):\n",
    "    corpus_cooc.append(clean_text(ad['title']).lower())\n",
    "    corpus_cooc.append(clean_text(ad['abstract']).lower())\n",
    "    corpus_cooc.append(clean_text(remove_html_tags(ad['content'])).lower())"
   ]
  },
  {
   "cell_type": "code",
   "execution_count": 39,
   "metadata": {
    "ExecuteTime": {
     "end_time": "2019-11-22T10:45:57.798319Z",
     "start_time": "2019-11-22T10:36:36.965339Z"
    }
   },
   "outputs": [
    {
     "name": "stderr",
     "output_type": "stream",
     "text": [
      "100%|██████████| 150000/150000 [09:16<00:00, 269.39it/s]\n",
      "100%|██████████| 1006780/1006780 [00:00<00:00, 1225261.19it/s]\n"
     ]
    }
   ],
   "source": [
    "KeywordsTextRank.compute_coocurrences(corpus_cooc)"
   ]
  },
  {
   "cell_type": "code",
   "execution_count": 41,
   "metadata": {
    "ExecuteTime": {
     "end_time": "2019-11-22T10:48:15.575904Z",
     "start_time": "2019-11-22T10:48:13.726220Z"
    }
   },
   "outputs": [],
   "source": [
    "keywords_textrank = KeywordsTextRank()"
   ]
  },
  {
   "cell_type": "code",
   "execution_count": 42,
   "metadata": {
    "ExecuteTime": {
     "end_time": "2019-11-22T10:48:15.616490Z",
     "start_time": "2019-11-22T10:48:15.578423Z"
    }
   },
   "outputs": [],
   "source": [
    "def get_textrank_keywords(ad):\n",
    "    ad_content = clean_text(remove_html_tags(ad['content'])).lower()\n",
    "    keywords = keywords_textrank.get_keywords(ad_content)\n",
    "    keywords, _ = zip(*keywords)\n",
    "    \n",
    "    return list(keywords)"
   ]
  },
  {
   "cell_type": "markdown",
   "metadata": {},
   "source": [
    "### Final candidate keywords\n",
    "Append the top keywords in the final list of keywords."
   ]
  },
  {
   "cell_type": "code",
   "execution_count": 43,
   "metadata": {
    "ExecuteTime": {
     "end_time": "2019-11-22T10:48:18.363961Z",
     "start_time": "2019-11-22T10:48:17.922390Z"
    }
   },
   "outputs": [
    {
     "name": "stdout",
     "output_type": "stream",
     "text": [
      "['hard work', 'make difference to children', 'difference to children lives', 'recruiting permanent', 'early', 'early childhood', 'range of existing', 'pulse', 'child care', 'crew', 'managing recruitment', 'deliver monthly', 'competitive salary and commission', 'commission structure with uncapped', 'everyone is heard', 'expenses', 'expenses', 'hard work', 'plenty of fun', 'support through our established', 'career development pathway', 'pathway', 'pathway', 'pathway and training', 'one of the best companies', 'services one of the largest', 'healthcare staffing', 'experience within early', 'early', 'early education', 'growing business in an exciting', 'pulse', 'child care', 'crew', 'early', 'early childhood', 'child care', 'centres and out of school hours', 'early', 'early childhood', 'trained educators', 'roles our specialist', 'early', 'early education', 'mandy', 'mandy']\n"
     ]
    }
   ],
   "source": [
    "candidates_tfidf = get_tfidf_keywords(ads[0])\n",
    "print(candidates_tfidf)"
   ]
  },
  {
   "cell_type": "code",
   "execution_count": 44,
   "metadata": {
    "ExecuteTime": {
     "end_time": "2019-11-22T10:48:18.631952Z",
     "start_time": "2019-11-22T10:48:18.578858Z"
    }
   },
   "outputs": [
    {
     "name": "stdout",
     "output_type": "stream",
     "text": [
      "['attending client visits', 'understanding client requirements', 'managing recruitment processes', 'deliver monthly targets', 'quarterly lunch clubs', 'independent clinical services', 'child care centres', 'school hours care', 'call mandy sheen', 'early childhood professionals', 'hard work whilst', 'candidate development strategy', 'early education backgrounds', 'recruiting permanent staff', 'uncapped earning potential', 'fast-growing business', 'team building days', 'competitive hard work', 'early education', 'building relationships', 'competitive salary', 'supportive team', 'international development', 'business development', 'specialist team', 'thriving business', 'career fairs', 'external events', 'coordinating resources', 'properly worked', 'commission structure', 'key player', 'offer opinions', 'financial rewards', 'celebratory meals', 'posh restaurant', 'socially active', 'great balance']\n"
     ]
    }
   ],
   "source": [
    "candidates_rake = get_rake_keywords(ads[0])\n",
    "print(candidates_rake)"
   ]
  },
  {
   "cell_type": "code",
   "execution_count": 48,
   "metadata": {
    "ExecuteTime": {
     "end_time": "2019-11-22T10:55:10.600426Z",
     "start_time": "2019-11-22T10:55:06.955284Z"
    }
   },
   "outputs": [
    {
     "name": "stdout",
     "output_type": "stream",
     "text": [
      "['team building', 'supportive team', 'business development', 'exciting opportunity please', 'work', 'career development', 'experience', 'role', 'candidate development', 'understanding client requirements', 'support', 'exciting industry', 'hours care', 'services', 'permanent staff', 'opportunities', 'great', 'competitive salary', 'building relationships', 'training', 'people', 'specialist knowledge', 'early education', 'part', 'clients', 'key', 'early childhood', 'experienced', 'benefits', 'range', 'financial', 'recruitment', 'day', 'focus', 'children', 'sydney', 'certificate', 'drive', 'candidates', 'passion']\n"
     ]
    }
   ],
   "source": [
    "candidates_textrank = get_textrank_keywords(ads[0])\n",
    "print(candidates_textrank)"
   ]
  },
  {
   "cell_type": "code",
   "execution_count": 60,
   "metadata": {
    "ExecuteTime": {
     "end_time": "2019-11-22T11:28:34.686192Z",
     "start_time": "2019-11-22T11:28:34.635514Z"
    }
   },
   "outputs": [
    {
     "data": {
      "text/plain": [
       "{'attending client visits',\n",
       " 'benefits',\n",
       " 'building relationships',\n",
       " 'business development',\n",
       " 'call mandy sheen',\n",
       " 'candidate development',\n",
       " 'candidate development strategy',\n",
       " 'candidates',\n",
       " 'career development',\n",
       " 'career development pathway',\n",
       " 'career fairs',\n",
       " 'celebratory meals',\n",
       " 'centres and out of school hours',\n",
       " 'certificate',\n",
       " 'child care',\n",
       " 'child care centres',\n",
       " 'children',\n",
       " 'clients',\n",
       " 'commission structure',\n",
       " 'commission structure with uncapped',\n",
       " 'competitive hard work',\n",
       " 'competitive salary',\n",
       " 'competitive salary and commission',\n",
       " 'coordinating resources',\n",
       " 'crew',\n",
       " 'day',\n",
       " 'deliver monthly',\n",
       " 'deliver monthly targets',\n",
       " 'difference to children lives',\n",
       " 'drive',\n",
       " 'early',\n",
       " 'early childhood',\n",
       " 'early childhood professionals',\n",
       " 'early education',\n",
       " 'early education backgrounds',\n",
       " 'everyone is heard',\n",
       " 'exciting industry',\n",
       " 'exciting opportunity please',\n",
       " 'expenses',\n",
       " 'experience',\n",
       " 'experience within early',\n",
       " 'experienced',\n",
       " 'external events',\n",
       " 'fast-growing business',\n",
       " 'financial',\n",
       " 'financial rewards',\n",
       " 'focus',\n",
       " 'great',\n",
       " 'great balance',\n",
       " 'growing business in an exciting',\n",
       " 'hard work',\n",
       " 'hard work whilst',\n",
       " 'healthcare staffing',\n",
       " 'hours care',\n",
       " 'independent clinical services',\n",
       " 'international development',\n",
       " 'key',\n",
       " 'key player',\n",
       " 'make difference to children',\n",
       " 'managing recruitment',\n",
       " 'managing recruitment processes',\n",
       " 'mandy',\n",
       " 'offer opinions',\n",
       " 'one of the best companies',\n",
       " 'opportunities',\n",
       " 'part',\n",
       " 'passion',\n",
       " 'pathway',\n",
       " 'pathway and training',\n",
       " 'people',\n",
       " 'permanent staff',\n",
       " 'plenty of fun',\n",
       " 'posh restaurant',\n",
       " 'properly worked',\n",
       " 'pulse',\n",
       " 'quarterly lunch clubs',\n",
       " 'range',\n",
       " 'range of existing',\n",
       " 'recruiting permanent',\n",
       " 'recruiting permanent staff',\n",
       " 'recruitment',\n",
       " 'role',\n",
       " 'roles our specialist',\n",
       " 'school hours care',\n",
       " 'services',\n",
       " 'services one of the largest',\n",
       " 'socially active',\n",
       " 'specialist knowledge',\n",
       " 'specialist team',\n",
       " 'support',\n",
       " 'support through our established',\n",
       " 'supportive team',\n",
       " 'sydney',\n",
       " 'team building',\n",
       " 'team building days',\n",
       " 'thriving business',\n",
       " 'trained educators',\n",
       " 'training',\n",
       " 'uncapped earning potential',\n",
       " 'understanding client requirements',\n",
       " 'work'}"
      ]
     },
     "execution_count": 60,
     "metadata": {},
     "output_type": "execute_result"
    }
   ],
   "source": [
    "candidates = set(candidates_tfidf + candidates_rake + candidates_textrank)\n",
    "candidates"
   ]
  },
  {
   "cell_type": "markdown",
   "metadata": {},
   "source": [
    "## Keywords filter"
   ]
  },
  {
   "cell_type": "markdown",
   "metadata": {},
   "source": [
    "The algorithms that I used for keyword extraction retrieve important keywords from a document, but our objective is to detect skills, responsabilities and other requirements.  Therefore, to detect those keywords that represent the target information, I used  [GloVe](https://nlp.stanford.edu/projects/glove/) pre-trained model to acquire vectorial representations of words. For each keyword extracted I compute its vectorial representation as mean of the vectorial representations of its words. \n",
    "\n",
    "$$v(\\text{experience within early educatio}) = mean([v(\\text{experience}),v(\\text{within}), v(\\text{early}), v(\\text{educatio})])$$\n",
    "\n",
    "\n",
    "In the vectorial representation of words, we know that the relationship between words are encoded in the distance between their vectorial representation: \n",
    "\n",
    "$$v(\\text{king}-\\text{queen}) = v(\\text{man}-\\text{women})$$\n",
    "\n",
    "So, I tried to enconde the relationship of `having a skill` using a predefined list of skills and substracting the representation of skill from it. From now on, I address only the acquisition of skills as proof of concept."
   ]
  },
  {
   "cell_type": "code",
   "execution_count": 50,
   "metadata": {
    "ExecuteTime": {
     "end_time": "2019-11-22T10:55:27.175921Z",
     "start_time": "2019-11-22T10:55:27.141407Z"
    }
   },
   "outputs": [],
   "source": [
    "glove_file='PLEASE DOWNLOAD A GLOVE PRECOMPUTED MODEL FROM https://nlp.stanford.edu/projects/glove/ AND SET THIS VARIABLE WITH THE PATH; I used GloVe trained on Wikipedia and Gigaword, with 100 dimensions'"
   ]
  },
  {
   "cell_type": "code",
   "execution_count": 70,
   "metadata": {
    "ExecuteTime": {
     "end_time": "2019-11-22T12:03:20.502261Z",
     "start_time": "2019-11-22T11:45:04.491479Z"
    }
   },
   "outputs": [
    {
     "name": "stderr",
     "output_type": "stream",
     "text": [
      "400000it [09:05, 733.80it/s]\n",
      "400000it [09:10, 726.39it/s]\n"
     ]
    }
   ],
   "source": [
    "vocabulary, _ = zip(*content_words_freq)\n",
    "GloveFilter.initialize(glove_file, vocabulary=vocabulary)"
   ]
  },
  {
   "cell_type": "code",
   "execution_count": 71,
   "metadata": {
    "ExecuteTime": {
     "end_time": "2019-11-22T12:09:35.964090Z",
     "start_time": "2019-11-22T12:09:30.796697Z"
    }
   },
   "outputs": [],
   "source": [
    "glove_filter = GloveFilter()"
   ]
  },
  {
   "cell_type": "code",
   "execution_count": 72,
   "metadata": {
    "ExecuteTime": {
     "end_time": "2019-11-22T12:09:36.006628Z",
     "start_time": "2019-11-22T12:09:35.966790Z"
    }
   },
   "outputs": [],
   "source": [
    "topn = 20"
   ]
  },
  {
   "cell_type": "code",
   "execution_count": 73,
   "metadata": {
    "ExecuteTime": {
     "end_time": "2019-11-22T12:09:36.062230Z",
     "start_time": "2019-11-22T12:09:36.009220Z"
    }
   },
   "outputs": [
    {
     "data": {
      "text/plain": [
       "[('competitive hard work', 0.80146104),\n",
       " ('understanding client requirements', 0.7940818),\n",
       " ('business development', 0.78598785),\n",
       " ('experience', 0.78391236),\n",
       " ('work', 0.7808696),\n",
       " ('specialist knowledge', 0.7789121),\n",
       " ('hard work', 0.7686739),\n",
       " ('experience within early', 0.7573397),\n",
       " ('hard work whilst', 0.75523245),\n",
       " ('focus', 0.7528898),\n",
       " ('managing recruitment processes', 0.74680173),\n",
       " ('career development', 0.741264),\n",
       " ('early education backgrounds', 0.72813153),\n",
       " ('candidate development strategy', 0.7280679),\n",
       " ('career development pathway', 0.7250649),\n",
       " ('early education', 0.721976),\n",
       " ('great balance', 0.7183232),\n",
       " ('independent clinical services', 0.71545774),\n",
       " ('building relationships', 0.7049985),\n",
       " ('international development', 0.70432043),\n",
       " ('early childhood professionals', 0.685948),\n",
       " ('exciting industry', 0.6785192),\n",
       " ('candidate development', 0.65023285),\n",
       " ('school hours care', 0.6493118),\n",
       " ('training', 0.6394417),\n",
       " ('support', 0.6366798),\n",
       " ('financial rewards', 0.6363495),\n",
       " ('part', 0.62653136),\n",
       " ('opportunities', 0.625979),\n",
       " ('offer opinions', 0.6257229)]"
      ]
     },
     "execution_count": 73,
     "metadata": {},
     "output_type": "execute_result"
    }
   ],
   "source": [
    "final_keywords = glove_filter.filter_keywords(candidates,30)\n",
    "final_keywords"
   ]
  },
  {
   "cell_type": "markdown",
   "metadata": {},
   "source": [
    "## Evaluation"
   ]
  },
  {
   "cell_type": "markdown",
   "metadata": {},
   "source": [
    "To evaluate this task I had annotated manually 5 random ads. I extracted all the keywords from the context that can represent skills, even if they were stated in the article as requirements.  I found it difficult to separate the skills out of the role requirements. \n",
    "For instance in the sentence \n",
    "\n",
    "> The Service Group Director will be required to demonstrate **strong leadership** and **business management experience** and will possess a rounded experience of operational leadership of complex service groups in a clinical setting, preferably within a medicine directorate or the emergency pathway.\n",
    "\n",
    "**strong leadership** and **business management experience** are requirements but in my opinion are also skills. \n",
    "\n",
    "As measure for keyword extraction the common measures, precision, recall, f1 and accurracy, are too strict because they don’t reflect partial matches. For instance, if the system extracts **management experience**  instead of **business management experience**, these measures would consider  **management experience** as incorrect.\n",
    "\n",
    "Therefore I suggest to use precision and recall inspired from the the ROUGE system, that is a metric used in text summarization and machine translation:\n",
    "\n",
    "$$Prec = \\frac{\\text{number of overlapping ngrams}}{\\text{number of ngrams in the extracted keywords}}$$\n",
    "\n",
    "$$Rec = \\frac{\\text{number of overlapping ngrams}}{\\text{number of ngrams in the ground truth}}$$\n",
    "\n",
    "$$F1 = \\frac{2*Prec*Rec}{Prec+Rec}$$"
   ]
  },
  {
   "cell_type": "code",
   "execution_count": 75,
   "metadata": {
    "ExecuteTime": {
     "end_time": "2019-11-22T12:10:08.879231Z",
     "start_time": "2019-11-22T12:10:02.261029Z"
    }
   },
   "outputs": [
    {
     "name": "stdout",
     "output_type": "stream",
     "text": [
      "['understanding client requirements', 'candidate development strategy', 'managing recruitment processes', 'building relationships', 'recruitment processes', 'candidate development', 'managing recruitment', 'understanding client', 'business development', 'development strategy', 'client requirements', 'experience within', 'understanding', 'relationships', 'requirements', 'competitive', 'recruitment', 'development', 'experience', 'candidate', 'processes', 'business', 'strategy', 'managing', 'building', 'client', 'within', 'focus']\n",
      "0.3218390804597701 0.35443037974683544 0.3373493975903615\n",
      "['entertainment product knowledge', 'outstanding customer service', 'results driven person', 'entertainment product', 'communication skills', 'outstanding customer', 'product knowledge', 'customer focused', 'customer service', 'results driven', 'entertainment', 'driven person', 'communication', 'outstanding', 'experience', 'knowledge', 'customers', 'customer', 'focused', 'product', 'service', 'results', 'ability', 'person', 'retail', 'skills', 'driven']\n",
      "0.27835051546391754 0.35526315789473684 0.31213872832369943\n",
      "['business management experience', 'highly motivated individual', 'collaborative leadership', 'health service delivery', 'operational leadership', 'management experience', 'motivated individual', 'providing high level', 'business management', 'strong leadership', 'service delivery', 'highly motivated', 'health service', 'providing high', 'understanding', 'relationships', 'collaborative', 'operational', 'performance', 'management', 'leadership', 'experience', 'high level', 'individual', 'motivated', 'providing', 'business', 'delivery', 'service', 'strong', 'highly', 'health', 'build', 'level', 'high']\n",
      "0.40229885057471265 0.4605263157894737 0.42944785276073616\n",
      "['interpersonal communication skills', 'interpersonal communication', 'communication skills', 'interpersonal', 'communication', 'skills', 'work']\n",
      "0.10606060606060606 0.21875 0.14285714285714285\n",
      "['motivated', 'detail', 'focus', 'team', 'work']\n",
      "0.1111111111111111 0.060240963855421686 0.078125\n"
     ]
    }
   ],
   "source": [
    "annotated_ads = [0, 1, 25445, 35120, 35345]\n",
    "\n",
    "for idx in annotated_ads:\n",
    "    annotated_ad = ads[idx]\n",
    "    with open(f\"annotations/{annotated_ad['id']}.txt\", \"r\") as handle:\n",
    "        ground_truth = [line.strip() for line in handle.readlines()]\n",
    "    candidates_tfidf = get_tfidf_keywords(annotated_ad)\n",
    "    candidates_rake = get_rake_keywords(annotated_ad)\n",
    "    candidates_textrank = get_textrank_keywords(annotated_ad)\n",
    "    candidates = set(candidates_tfidf + candidates_rake + candidates_textrank)\n",
    "    \n",
    "    final_keywords = glove_filter.filter_keywords(candidates,30)\n",
    "    final_keywords, _ = zip(*final_keywords)\n",
    "    prec, rec, f, intersection = measure(final_keywords, ground_truth)\n",
    "    print(sorted(intersection, key= lambda x: len(x), reverse=True))\n",
    "    print(prec, rec, f)"
   ]
  },
  {
   "cell_type": "markdown",
   "metadata": {},
   "source": [
    "## Results and Further work"
   ]
  },
  {
   "cell_type": "markdown",
   "metadata": {},
   "source": [
    "The results obtained are not very good, and it doesn't surprise me due to the few supervision that it is involved in this approach. Therefore there are many paths for improvement:\n",
    "\n",
    "1. Use a better text preprocessing scheme, apply a NER system and maybe even dependency parser.\n",
    "2. Investigate the best parameters for the keyword extraction systems.\n",
    "3. Replace the filtering approach based on Glove with a supervised model that predicts if a candidate keyword is a skill, responsability or requirement, based on contextual information and on the HTML tags. \n",
    "4. Improve the evaluation scheme, the actual scheme is very optimistic as it scores also words, and does not weigth more a bigram or trigram than a word.\n"
   ]
  },
  {
   "cell_type": "markdown",
   "metadata": {},
   "source": [
    "# Use cases\n",
    "\n",
    "#### Task: Consider a use case where your solution might be used for assisting advertisers to post new better written, concise ads. \n",
    "\n",
    "My solution aims at extracting tags that represent skills, responsibilities and other requirements. With a system that reliably extracts this information, we can use it to summarize the ad. This way, a candidate could skim through the summary of skills, responsibilities and requirements, before reading the whole ad, and get an idea if he is interested on the position.\n",
    "\n",
    "#### Task: Consider a use case where your solution might be applied to streaming data.\n",
    "\n",
    "My solution aims at extracting tags that represent skills, responsibilities and other requirements. If we have a system that reliably extracts these tags we can use it for streaming data to process each ad in real-time. The tags that are acquired can be proposed to the advertiser. He/She could choose the tags that best fit his requirements. \n",
    "\n",
    "For streaming processing the latency is very important, it should be in order of seconds or milliseconds, because we should have a balance between the number of ads that are uploaded on the platform in a period of time and the number of ads that are processed in the same period of time, if not we can overload the system and the solution will not be anymore in real-time."
   ]
  },
  {
   "cell_type": "markdown",
   "metadata": {
    "ExecuteTime": {
     "end_time": "2019-11-22T12:10:33.417221Z",
     "start_time": "2019-11-22T12:10:33.379450Z"
    }
   },
   "source": [
    "# Thank you"
   ]
  },
  {
   "cell_type": "code",
   "execution_count": null,
   "metadata": {},
   "outputs": [],
   "source": []
  }
 ],
 "metadata": {
  "kernelspec": {
   "display_name": "Python 3",
   "language": "python",
   "name": "python3"
  },
  "language_info": {
   "codemirror_mode": {
    "name": "ipython",
    "version": 3
   },
   "file_extension": ".py",
   "mimetype": "text/x-python",
   "name": "python",
   "nbconvert_exporter": "python",
   "pygments_lexer": "ipython3",
   "version": "3.6.7"
  }
 },
 "nbformat": 4,
 "nbformat_minor": 2
}
